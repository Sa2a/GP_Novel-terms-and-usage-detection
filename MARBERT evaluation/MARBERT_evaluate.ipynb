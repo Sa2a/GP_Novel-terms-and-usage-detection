{
 "cells": [
  {
   "cell_type": "code",
   "execution_count": 14,
   "metadata": {},
   "outputs": [
    {
     "name": "stderr",
     "output_type": "stream",
     "text": [
      "Some weights of the model checkpoint at ../MARBERT_pytorch_verison/ were not used when initializing BertForMaskedLM: ['cls.seq_relationship.weight', 'cls.seq_relationship.bias']\n",
      "- This IS expected if you are initializing BertForMaskedLM from the checkpoint of a model trained on another task or with another architecture (e.g. initializing a BertForSequenceClassification model from a BertForPreTraining model).\n",
      "- This IS NOT expected if you are initializing BertForMaskedLM from the checkpoint of a model that you expect to be exactly identical (initializing a BertForSequenceClassification model from a BertForSequenceClassification model).\n"
     ]
    }
   ],
   "source": [
    "from transformers import BertTokenizer, BertForMaskedLM\n",
    "import torch\n",
    "\n",
    "tokenizer = BertTokenizer.from_pretrained(\"../MARBERT_pytorch_verison/\",local_files_only=True)\n",
    "model = BertForMaskedLM.from_pretrained(\"../MARBERT_pytorch_verison/\",local_files_only=True)\n"
   ]
  },
  {
   "cell_type": "markdown",
   "metadata": {},
   "source": [
    "# Test"
   ]
  },
  {
   "cell_type": "code",
   "execution_count": 16,
   "metadata": {},
   "outputs": [],
   "source": [
    "from transformers import pipeline\n",
    "fill = pipeline('fill-mask', model=model, tokenizer=tokenizer)"
   ]
  },
  {
   "cell_type": "code",
   "execution_count": 21,
   "metadata": {},
   "outputs": [
    {
     "data": {
      "text/plain": [
       "'البرد'"
      ]
     },
     "execution_count": 21,
     "metadata": {},
     "output_type": "execute_result"
    }
   ],
   "source": [
    "tokenizer.ids_to_tokens[6695]"
   ]
  },
  {
   "cell_type": "code",
   "execution_count": 19,
   "metadata": {},
   "outputs": [
    {
     "data": {
      "text/plain": [
       "[{'score': 0.12849706411361694,\n",
       "  'token': 15071,\n",
       "  'token_str': 'ا ل و ز ن',\n",
       "  'sequence': 'كيف نترك الوزن بلا تخفيف'},\n",
       " {'score': 0.03307188302278519,\n",
       "  'token': 4555,\n",
       "  'token_str': 'ا ل ا ل م',\n",
       "  'sequence': 'كيف نترك الالم بلا تخفيف'},\n",
       " {'score': 0.028317086398601532,\n",
       "  'token': 17950,\n",
       "  'token_str': 'ا ل ت د خ ي ن',\n",
       "  'sequence': 'كيف نترك التدخين بلا تخفيف'},\n",
       " {'score': 0.024875370785593987,\n",
       "  'token': 6695,\n",
       "  'token_str': 'ا ل ب ر د',\n",
       "  'sequence': 'كيف نترك البرد بلا تخفيف'},\n",
       " {'score': 0.019726363942027092,\n",
       "  'token': 14114,\n",
       "  'token_str': 'ا ل ح م ل',\n",
       "  'sequence': 'كيف نترك الحمل بلا تخفيف'}]"
      ]
     },
     "execution_count": 19,
     "metadata": {},
     "output_type": "execute_result"
    }
   ],
   "source": [
    "fill(\"كيف نترك [MASK] بلا تخفيف\")"
   ]
  },
  {
   "cell_type": "code",
   "execution_count": 23,
   "metadata": {},
   "outputs": [
    {
     "data": {
      "text/plain": [
       "[{'score': 0.8920164108276367,\n",
       "  'token': 1944,\n",
       "  'token_str': 'ا ل ل ه',\n",
       "  'sequence': 'دا مجرد راى و الله اعلم و ابقا'},\n",
       " {'score': 0.05682622268795967,\n",
       "  'token': 2410,\n",
       "  'token_str': 'ر ب ن ا',\n",
       "  'sequence': 'دا مجرد راى و ربنا اعلم و ابقا'},\n",
       " {'score': 0.012048384174704552,\n",
       "  'token': 2043,\n",
       "  'token_str': 'ا ن ا',\n",
       "  'sequence': 'دا مجرد راى و انا اعلم و ابقا'},\n",
       " {'score': 0.008924596942961216,\n",
       "  'token': 2188,\n",
       "  'token_str': 'و ا ل ل ه',\n",
       "  'sequence': 'دا مجرد راى و والله اعلم و ابقا'},\n",
       " {'score': 0.0060321856290102005,\n",
       "  'token': 16954,\n",
       "  'token_str': 'ر ب ى',\n",
       "  'sequence': 'دا مجرد راى و ربى اعلم و ابقا'}]"
      ]
     },
     "execution_count": 23,
     "metadata": {},
     "output_type": "execute_result"
    }
   ],
   "source": [
    "# دا مجرد رأى و الله اعلم و ابقا\n",
    "fill(\"دا مجرد رأى و[MASK] اعلم و ابقا\")"
   ]
  },
  {
   "cell_type": "code",
   "execution_count": 48,
   "metadata": {},
   "outputs": [
    {
     "data": {
      "text/plain": [
       "[{'score': 0.3530510663986206,\n",
       "  'token': 13147,\n",
       "  'token_str': 'م س ا ف ر',\n",
       "  'sequence': 'هو كل يوم نسمع فتوى جديده ماكلنا عارفين من كان مسافر او على سفر وخلصت هنخترع بقى رخص جديده من عندنا'},\n",
       " {'score': 0.024989185854792595,\n",
       "  'token': 32403,\n",
       "  'token_str': 'س ك ر ا ن',\n",
       "  'sequence': 'هو كل يوم نسمع فتوى جديده ماكلنا عارفين من كان سكران او على سفر وخلصت هنخترع بقى رخص جديده من عندنا'},\n",
       " {'score': 0.02228216826915741,\n",
       "  'token': 5034,\n",
       "  'token_str': 'م ع ه م',\n",
       "  'sequence': 'هو كل يوم نسمع فتوى جديده ماكلنا عارفين من كان معهم او على سفر وخلصت هنخترع بقى رخص جديده من عندنا'},\n",
       " {'score': 0.02149583026766777,\n",
       "  'token': 2408,\n",
       "  'token_str': 'ف ي ه ا',\n",
       "  'sequence': 'هو كل يوم نسمع فتوى جديده ماكلنا عارفين من كان فيها او على سفر وخلصت هنخترع بقى رخص جديده من عندنا'},\n",
       " {'score': 0.019086632877588272,\n",
       "  'token': 33750,\n",
       "  'token_str': 'م س ج و ن',\n",
       "  'sequence': 'هو كل يوم نسمع فتوى جديده ماكلنا عارفين من كان مسجون او على سفر وخلصت هنخترع بقى رخص جديده من عندنا'}]"
      ]
     },
     "execution_count": 48,
     "metadata": {},
     "output_type": "execute_result"
    }
   ],
   "source": [
    "fill(\"هو كل يوم نسمع فتوى جديده  ماكلنا عارفين من كان [MASK] أو على سفر وخلصت  هنخترع بقى رخص جديده من عندنا \")"
   ]
  },
  {
   "cell_type": "markdown",
   "metadata": {},
   "source": [
    "# Get contextual word embedding "
   ]
  },
  {
   "cell_type": "code",
   "execution_count": 1,
   "metadata": {},
   "outputs": [
    {
     "name": "stderr",
     "output_type": "stream",
     "text": [
      "c:\\Users\\river\\anaconda3\\envs\\tf\\lib\\site-packages\\tqdm\\auto.py:22: TqdmWarning: IProgress not found. Please update jupyter and ipywidgets. See https://ipywidgets.readthedocs.io/en/stable/user_install.html\n",
      "  from .autonotebook import tqdm as notebook_tqdm\n"
     ]
    }
   ],
   "source": [
    "import numpy as np\n",
    "import torch\n",
    "from transformers import  AutoModel,AutoTokenizer\n",
    "\n",
    "\n",
    "def get_word_idx(sent: str, word: str):\n",
    "    return sent.split(\" \").index(word)\n",
    "\n",
    "\n",
    "def get_hidden_states(encoded, token_ids_word, model, layers):\n",
    "    \"\"\"Push input IDs through model. Stack and sum `layers` (last four by default).\n",
    "    Select only those subword token outputs that belong to our word of interest\n",
    "    and average them.\"\"\"\n",
    "    with torch.no_grad():\n",
    "        output = model(**encoded)\n",
    "\n",
    "    # Get all hidden states\n",
    "    states = output.hidden_states\n",
    "    # Stack and sum all requested layers\n",
    "    output = torch.stack([states[i] for i in layers]).sum(0).squeeze()\n",
    "    # Only select the tokens that constitute the requested word\n",
    "    word_tokens_output = output[token_ids_word]\n",
    "\n",
    "    return word_tokens_output.mean(dim=0)\n",
    "\n",
    "\n",
    "def get_word_vector(sent, idx, tokenizer, model, layers):\n",
    "    \"\"\"Get a word vector by first tokenizing the input sentence, getting all token idxs\n",
    "    that make up the word of interest, and then `get_hidden_states`.\"\"\"\n",
    "    encoded = tokenizer.encode_plus(sent, return_tensors=\"pt\")\n",
    "    # get all token idxs that belong to the word of interest\n",
    "    token_ids_word = np.where(np.array(encoded.word_ids()) == idx)\n",
    "\n",
    "    return get_hidden_states(encoded, token_ids_word, model, layers)\n"
   ]
  },
  {
   "cell_type": "markdown",
   "metadata": {},
   "source": [
    "# Test word similarity with cosine similarity sklearn"
   ]
  },
  {
   "cell_type": "code",
   "execution_count": 2,
   "metadata": {},
   "outputs": [
    {
     "name": "stderr",
     "output_type": "stream",
     "text": [
      "Some weights of the model checkpoint at ../MARBERT_pytorch_verison/ were not used when initializing BertModel: ['cls.predictions.decoder.weight', 'cls.seq_relationship.bias', 'cls.predictions.transform.LayerNorm.bias', 'cls.predictions.transform.LayerNorm.weight', 'cls.predictions.bias', 'cls.predictions.transform.dense.weight', 'cls.seq_relationship.weight', 'cls.predictions.transform.dense.bias']\n",
      "- This IS expected if you are initializing BertModel from the checkpoint of a model trained on another task or with another architecture (e.g. initializing a BertForSequenceClassification model from a BertForPreTraining model).\n",
      "- This IS NOT expected if you are initializing BertModel from the checkpoint of a model that you expect to be exactly identical (initializing a BertForSequenceClassification model from a BertForSequenceClassification model).\n"
     ]
    }
   ],
   "source": [
    "# Use last four layers by default\n",
    "\n",
    "layers = [-4, -3, -2, -1] \n",
    "tokenizer = AutoTokenizer.from_pretrained(\"../MARBERT_pytorch_verison/\",max_len=512)\n",
    "model = AutoModel.from_pretrained(\"../MARBERT_pytorch_verison/\", output_hidden_states=True)"
   ]
  },
  {
   "cell_type": "code",
   "execution_count": 28,
   "metadata": {},
   "outputs": [
    {
     "data": {
      "text/html": [
       "<div>\n",
       "<style scoped>\n",
       "    .dataframe tbody tr th:only-of-type {\n",
       "        vertical-align: middle;\n",
       "    }\n",
       "\n",
       "    .dataframe tbody tr th {\n",
       "        vertical-align: top;\n",
       "    }\n",
       "\n",
       "    .dataframe thead th {\n",
       "        text-align: right;\n",
       "    }\n",
       "</style>\n",
       "<table border=\"1\" class=\"dataframe\">\n",
       "  <thead>\n",
       "    <tr style=\"text-align: right;\">\n",
       "      <th></th>\n",
       "      <th>Text</th>\n",
       "    </tr>\n",
       "  </thead>\n",
       "  <tbody>\n",
       "    <tr>\n",
       "      <th>0</th>\n",
       "      <td>تحياتي لكم جميعا</td>\n",
       "    </tr>\n",
       "    <tr>\n",
       "      <th>1</th>\n",
       "      <td>ودي تشم ولا تقرقش</td>\n",
       "    </tr>\n",
       "    <tr>\n",
       "      <th>2</th>\n",
       "      <td>هو كل يوم نسمع فتوى جديده  ماكلنا عارفين من كا...</td>\n",
       "    </tr>\n",
       "    <tr>\n",
       "      <th>3</th>\n",
       "      <td>يفطر وعدة من أيام أخر زي ما العالم ماشي من ألف...</td>\n",
       "    </tr>\n",
       "    <tr>\n",
       "      <th>4</th>\n",
       "      <td>بلاش اختراعات يا عم الحاج</td>\n",
       "    </tr>\n",
       "    <tr>\n",
       "      <th>5</th>\n",
       "      <td>الصيام صيام ادا كنت مريض فطر وعدة من ايام اخر ...</td>\n",
       "    </tr>\n",
       "    <tr>\n",
       "      <th>6</th>\n",
       "      <td>الدواء لابد ان يشرب في كميه مياه كافيهلوشرب ال...</td>\n",
       "    </tr>\n",
       "    <tr>\n",
       "      <th>7</th>\n",
       "      <td>لاسف فان تنطع بعض من يعتقدون انهم لانهم تمشيخو...</td>\n",
       "    </tr>\n",
       "    <tr>\n",
       "      <th>8</th>\n",
       "      <td>انها فتوى تنم عن جهل فاضح وتنطع من لا يفقه</td>\n",
       "    </tr>\n",
       "    <tr>\n",
       "      <th>9</th>\n",
       "      <td>اولا كان الاولى بمن قال الفتوى الجمقاء ان يقول...</td>\n",
       "    </tr>\n",
       "  </tbody>\n",
       "</table>\n",
       "</div>"
      ],
      "text/plain": [
       "                                                Text\n",
       "0                                   تحياتي لكم جميعا\n",
       "1                                 ودي تشم ولا تقرقش \n",
       "2  هو كل يوم نسمع فتوى جديده  ماكلنا عارفين من كا...\n",
       "3  يفطر وعدة من أيام أخر زي ما العالم ماشي من ألف...\n",
       "4                         بلاش اختراعات يا عم الحاج \n",
       "5  الصيام صيام ادا كنت مريض فطر وعدة من ايام اخر ...\n",
       "6  الدواء لابد ان يشرب في كميه مياه كافيهلوشرب ال...\n",
       "7  لاسف فان تنطع بعض من يعتقدون انهم لانهم تمشيخو...\n",
       "8         انها فتوى تنم عن جهل فاضح وتنطع من لا يفقه\n",
       "9  اولا كان الاولى بمن قال الفتوى الجمقاء ان يقول..."
      ]
     },
     "execution_count": 28,
     "metadata": {},
     "output_type": "execute_result"
    }
   ],
   "source": [
    "import pandas as pd\n",
    "df = pd.read_csv(\"../Data/Preprocessed/RestOf_AOC_youm7_comments.csv\")\n",
    "df.head(10)"
   ]
  },
  {
   "cell_type": "code",
   "execution_count": 33,
   "metadata": {},
   "outputs": [
    {
     "data": {
      "text/plain": [
       "'هو كل يوم نسمع فتوى جديده  ماكلنا عارفين من كان مريضا أو على سفر وخلصت  هنخترع بقى رخص جديده من عندنا '"
      ]
     },
     "execution_count": 33,
     "metadata": {},
     "output_type": "execute_result"
    }
   ],
   "source": [
    "df.iloc[2][0]"
   ]
  },
  {
   "cell_type": "code",
   "execution_count": 4,
   "metadata": {},
   "outputs": [],
   "source": [
    "text = \"هو كل يوم نسمع فتوى جديده  ماكلنا عارفين من كان مريضا أو على سفر وخلصت  هنخترع بقى رخص جديده من عندنا \"\n",
    "x = get_word_idx(text, \"فتوى\")\n",
    "\n",
    "embd = get_word_vector(text, x, tokenizer, model, layers)\n"
   ]
  },
  {
   "cell_type": "code",
   "execution_count": 7,
   "metadata": {},
   "outputs": [
    {
     "data": {
      "text/plain": [
       "array([ 1.05541396e+00, -5.67821562e-01,  2.98531115e-01, -3.46632051e+00,\n",
       "        1.79541743e+00, -1.21660149e+00, -3.09225023e-01, -5.62635756e+00,\n",
       "        5.86506224e+00, -9.87138689e-01,  3.28087062e-02,  1.09144950e+00,\n",
       "       -3.36659169e+00, -3.33140045e-01, -1.68454504e+00, -5.42061090e-01,\n",
       "       -2.22262979e+00, -2.21202970e+00, -4.54788399e+00, -2.00794324e-01,\n",
       "       -2.34295177e+00,  1.35216594e+00, -8.30536366e+00,  4.11758041e+00,\n",
       "       -1.66416240e+00,  3.67621493e+00,  6.47384524e-01, -1.82692456e+00,\n",
       "       -2.92021370e+00,  3.29810739e-01,  5.25545216e+00, -4.55368328e+00,\n",
       "       -2.13490629e+00,  1.09533796e+01,  2.89962649e-01, -1.46048486e+00,\n",
       "        3.59118915e+00,  9.40522909e-01,  3.73205334e-01,  2.70744300e+00,\n",
       "       -2.90056038e+00,  6.66461563e+00,  2.33909631e+00,  4.12114573e+00,\n",
       "       -5.27561724e-01,  2.10542846e+00,  1.75626564e+00,  2.98278284e+00,\n",
       "       -2.35785890e+00, -2.01834059e+00, -7.72282743e+00, -1.00568509e+00,\n",
       "        1.18760264e+00,  2.47245359e+00,  2.72971869e+00,  2.20489955e+00,\n",
       "       -3.06639522e-01,  2.35665590e-02, -2.60527730e-01, -2.01886106e+00,\n",
       "        4.41237450e+00,  3.17100525e+00, -1.79686260e+00,  4.14446068e+00,\n",
       "       -2.94269109e+00, -4.21765375e+00, -6.75320804e-01,  3.32483959e+00,\n",
       "       -7.59461820e-01, -2.20264649e+00, -2.17299962e+00,  2.28381896e+00,\n",
       "       -3.75611961e-01, -2.10436344e+00, -2.71327949e+00, -3.46113729e+00,\n",
       "        1.79548359e+00, -1.50425160e+00,  7.80855370e+00,  9.51293850e+00,\n",
       "       -4.67205703e-01, -5.75720191e-01,  3.69055820e+00, -2.55199742e+00,\n",
       "       -2.17324591e+00, -1.87823403e+00,  2.11153507e+00,  2.58861518e+00,\n",
       "        3.23409367e+00,  1.13646543e+00, -2.88242370e-01,  3.66051817e+00,\n",
       "        5.04915810e+00, -5.99366522e+00, -6.07417011e+00, -2.20885968e+00,\n",
       "       -1.94933438e+00, -5.21263897e-01,  2.82947421e+00,  7.54876852e+00,\n",
       "        1.88308299e+00,  2.74717617e+00,  1.28050780e+00,  2.84519935e+00,\n",
       "        1.68553591e+00,  3.21353376e-01,  2.24687481e+00, -4.57345200e+00,\n",
       "       -3.67503941e-01,  3.59113979e+00, -2.72246814e+00,  5.04468584e+00,\n",
       "        1.89865386e+00,  1.63458276e+00,  5.50817288e-02,  2.66686726e+00,\n",
       "       -1.72993028e+00,  5.04653901e-03,  3.18188834e+00,  1.67435944e+00,\n",
       "        1.29649234e+00, -7.30477381e+00,  3.14308691e+00,  8.62339687e+00,\n",
       "       -4.92926693e+00,  2.93835831e+00, -2.03701997e+00, -6.88110232e-01,\n",
       "        2.23253870e+00,  1.46482736e-01,  3.47452974e+00,  8.18215609e-01,\n",
       "       -6.48879766e-01, -2.82984197e-01,  1.70127392e+00, -3.90339851e+00,\n",
       "        7.70711946e+00, -2.29699016e-01,  3.42605281e+00,  1.04550898e+00,\n",
       "       -1.01547945e+00,  3.28600144e+00, -5.79761147e-01, -3.20984030e+00,\n",
       "        1.60625172e+00,  2.87006386e-02, -3.29190397e+00, -6.25191069e+00,\n",
       "        1.74557614e+00,  8.39792609e-01,  3.09720755e+00,  3.49112940e+00,\n",
       "       -2.66409063e+00,  9.88857687e-01,  2.36161447e+00,  4.70384598e+00,\n",
       "       -1.01135588e+00,  2.24366024e-01,  2.35365868e+00, -1.54596901e+00,\n",
       "       -3.07921028e+00,  4.43666339e-01, -1.25117946e+00, -4.45932627e+00,\n",
       "       -3.00526762e+00, -3.52739906e+00, -5.02334881e+00,  1.51253593e+00,\n",
       "        6.65849984e-01,  4.82480288e+00, -1.66178215e+00,  2.69468880e+00,\n",
       "        7.06298590e-01,  7.29070425e-01,  3.55185485e+00,  6.52783585e+00,\n",
       "        3.84856462e-01, -2.33097672e+00, -8.94677401e-01, -3.18156147e+00,\n",
       "        4.95414317e-01,  3.53852105e+00,  3.59105825e-01, -7.53533077e+00,\n",
       "       -3.43059921e+00, -4.85356376e-02, -7.76700318e-01,  2.99558473e+00,\n",
       "       -1.70189345e+00, -4.01001024e+00,  4.82300729e-01, -1.63303757e+00,\n",
       "        3.61923501e-02,  1.56397140e+00, -1.71008646e+00,  2.11665869e+00,\n",
       "       -5.54086208e-01,  8.88048649e-01,  2.80622959e+00,  1.59741592e+00,\n",
       "        5.04746819e+00,  4.27486658e+00, -1.68137872e+00, -4.25920916e+00,\n",
       "       -1.08263284e-01, -3.01936579e+00, -7.91474402e-01,  4.21378040e+00,\n",
       "        1.38131166e+00,  1.31863070e+00,  1.74845147e+00,  2.97504640e+00,\n",
       "       -3.07747364e-01, -3.15193415e-01, -2.98977661e+00,  6.97644567e+00,\n",
       "        3.12875724e+00,  1.91087365e+00, -6.13156319e-01, -4.84938669e+00,\n",
       "        5.98659277e-01, -5.21752357e+00, -1.69111729e+00, -2.64333630e+00,\n",
       "        1.21297702e-01, -2.43132710e+00, -1.25165606e+00,  5.56539917e+00,\n",
       "       -2.17282438e+00,  2.47365952e+00,  2.65661073e+00,  2.72472525e+00,\n",
       "        2.43582582e+00,  1.86001942e-01,  1.46967399e+00, -4.73518753e+00,\n",
       "       -1.05211765e-01,  1.03623056e+00,  4.21289587e+00, -4.03943151e-01,\n",
       "        1.30885267e+00,  1.19586098e+00,  4.63912439e+00, -1.47619700e+00,\n",
       "        1.87305832e+00,  3.35545993e+00, -1.96479619e+00, -6.35585666e-01,\n",
       "       -1.77547204e+00,  2.92919016e+00, -4.06908482e-01,  2.02221322e+00,\n",
       "       -3.17183399e+00,  1.75598288e+00, -4.24816942e+00, -1.71608400e+00,\n",
       "       -2.95146704e+00,  2.10549259e+00,  3.94266629e+00, -2.02474022e+00,\n",
       "       -6.40316248e-01, -5.17483771e-01, -1.34031326e-01,  2.46386123e+00,\n",
       "        2.11837959e+00, -1.51210225e+00, -1.93207228e+00,  2.59246755e+00,\n",
       "       -2.78640437e+00,  4.35773945e+00,  4.84935135e-01,  5.02780676e+00,\n",
       "       -2.90448046e+00, -2.02092052e+00, -1.38289773e+00,  7.84743190e-01,\n",
       "       -2.83173442e+00,  2.75983214e-01,  4.57681417e+00,  2.32509804e+00,\n",
       "        5.32423139e-01,  4.70315456e+00,  1.50614703e+00, -1.90501928e+00,\n",
       "        5.93222678e-01, -1.25514746e+00, -2.23036480e+00, -1.00586319e+00,\n",
       "        2.71242881e+00,  1.59737456e+00,  3.84946585e+00, -6.58089444e-02,\n",
       "        5.13862276e+00, -1.17815566e+00, -2.29478312e+00,  2.55159616e+00,\n",
       "       -4.28071833e+00,  1.38060975e+00,  9.65443075e-01,  1.46315500e-01,\n",
       "        1.53863549e+00,  2.86680031e+00, -2.14438963e+00, -1.10295880e+00,\n",
       "        2.53531456e+00, -3.54664516e+00,  1.80658185e+00, -2.16945148e+00,\n",
       "        5.48259497e+00, -3.35732985e+00,  2.60725021e-01,  1.70575273e+00,\n",
       "       -1.03349924e+00,  2.12661481e+00, -3.72379684e+00,  3.25482559e+00,\n",
       "        2.80107284e+00,  8.06596637e-01, -3.48893952e+00,  8.48062277e-01,\n",
       "        4.50765181e+00,  1.54545200e+00, -1.16644502e+00, -3.94503903e+00,\n",
       "       -4.62557936e+00, -4.40839434e+00,  6.17460489e-01,  3.50934911e+00,\n",
       "       -1.72924280e+00,  1.79263973e+00,  1.36330640e+00, -3.25102115e+00,\n",
       "        3.31245494e+00,  3.78414243e-02,  5.15277958e+00, -1.55973339e+00,\n",
       "        2.35649395e+00,  1.48924136e+00,  1.02925003e+00, -6.04657829e-01,\n",
       "       -3.99408722e+00, -6.74088335e+00, -1.26423049e+00,  2.59417677e+00,\n",
       "       -1.70738503e-01, -7.53850174e+00, -3.24488449e+00, -1.96162820e+00,\n",
       "       -2.93685317e+00, -4.07997251e-01, -2.43340588e+00, -3.66353559e+00,\n",
       "       -3.69424939e+00,  6.49368572e+00,  6.97467983e-01, -4.56405592e+00,\n",
       "        1.79029095e+00, -1.08447337e+00,  8.40803680e+01,  5.13209534e+00,\n",
       "       -3.24929571e+00, -4.05640411e+00, -4.69534445e+00, -3.38155222e+00,\n",
       "        1.82344055e+00, -3.17210793e+00, -4.84310341e+00, -2.08699894e+00,\n",
       "       -2.16858721e+00, -1.57213306e+00, -1.30221531e-01, -4.95802760e-01,\n",
       "       -2.85149646e+00,  1.32049453e+00,  1.88349164e+00, -3.53033137e+00,\n",
       "       -2.00536084e+00,  3.56845760e+00, -1.01903629e+00,  1.34659290e+00,\n",
       "       -4.26989603e+00,  1.93511868e+00, -5.69610775e-01,  5.69378662e+00,\n",
       "        1.03348851e+00, -1.38690662e+00,  3.32983923e+00,  4.04710770e+00,\n",
       "        1.69882739e+00,  1.92276824e+00,  2.20840859e+00, -1.30107069e+00,\n",
       "       -3.99769545e+00, -2.38202357e+00, -1.33954775e+00,  9.53405321e-01,\n",
       "       -1.56878710e+00, -4.27799702e+00,  5.67643547e+00, -5.40662193e+00,\n",
       "        1.48198783e+00, -3.62577271e+00, -2.93581676e+00,  1.10298121e+00,\n",
       "       -2.90667486e+00,  2.54260719e-01, -2.25105119e+00, -1.87668633e+00,\n",
       "       -2.31296492e+00, -4.40016460e+00,  3.49614191e+00,  1.51758015e+00,\n",
       "        8.80456924e-01, -7.72865629e+00,  6.62947357e-01, -8.34815577e-02,\n",
       "       -4.36439228e+00,  1.46322370e+00,  4.36665249e+00,  3.88573265e+00,\n",
       "        2.43860793e+00,  3.97477937e+00,  1.61170053e+00,  1.55238175e+00,\n",
       "        2.03196931e+00, -3.49466681e+00, -9.52615142e-02, -1.93511128e+00,\n",
       "        1.01834345e+00, -1.97754860e-01,  7.59312272e-01,  3.30996132e+00,\n",
       "        3.01347375e+00, -4.10739040e+00,  2.79385829e+00,  7.77137935e-01,\n",
       "       -6.39365864e+00, -2.13455749e+00, -1.02749079e-01, -3.65285444e+00,\n",
       "       -1.36614347e+00, -9.31308079e+00, -5.47955990e+00,  8.59145045e-01,\n",
       "       -6.84574842e-01, -3.43524122e+00, -2.52254725e+00, -5.62519789e-01,\n",
       "       -7.67185509e-01, -3.35358334e+00, -2.19179916e+00, -2.22824097e+00,\n",
       "       -1.90612102e+00,  5.72675943e+00,  3.80595827e+00,  4.51934338e+00,\n",
       "        3.54095399e-01, -1.44249511e+00, -1.54819643e+00, -7.80031025e-01,\n",
       "       -2.75522399e+00,  7.23919392e+00,  5.43510675e+00,  8.44705343e-01,\n",
       "        3.11254478e+00,  1.78184479e-01,  7.59933710e-01, -1.02868533e+00,\n",
       "       -5.25739193e-01, -6.39749050e-01, -2.16958261e+00,  9.55932236e+00,\n",
       "       -3.79953384e+00,  1.64730489e+00,  3.22701716e+00,  4.73459578e+00,\n",
       "       -2.61232924e+00, -4.42556763e+00, -1.71357679e+00, -1.09382522e+00,\n",
       "        6.16309106e-01,  8.82737696e-01, -2.60091734e+00, -3.03636956e+00,\n",
       "       -1.54499292e+00,  1.50566614e+00, -5.53188038e+00, -1.91306341e+00,\n",
       "       -1.93301946e-01, -4.65133381e+00, -7.12706852e+00, -4.18656319e-01,\n",
       "        4.44746763e-01, -2.09422016e+00,  9.36957181e-01,  8.81557047e-01,\n",
       "        2.67809844e+00,  9.62484717e-01,  1.69607460e+00,  1.56920600e+00,\n",
       "        3.99975109e+00, -2.77890301e+00,  3.37743235e+00, -3.30438542e+00,\n",
       "        1.61506367e+00, -4.53226423e+00,  3.01219416e+00, -3.88663387e+00,\n",
       "        1.88394117e+00, -1.26259625e+00,  2.23089075e+00, -5.90490198e+00,\n",
       "        9.49421942e-01,  5.41699457e+00, -2.85998082e+00, -3.88326335e+00,\n",
       "        1.49265468e+00, -4.55550528e+00,  2.10768914e+00,  1.06602871e+00,\n",
       "       -4.68035281e-01, -4.80263329e+00, -1.75646469e-01,  5.30888414e+00,\n",
       "       -3.17184711e+00,  2.65623736e+00,  1.63816261e+00, -6.22973382e-01,\n",
       "        7.31122732e-01, -1.56376255e+00, -8.48507404e-01, -2.45630503e+00,\n",
       "       -2.67292142e+00,  2.74470180e-01,  2.69527507e+00, -2.50645089e+00,\n",
       "       -2.34025931e+00,  3.70384765e+00, -5.26051235e+00,  1.70200598e+00,\n",
       "       -2.95061588e+00,  3.72548723e+00,  1.23945594e+00,  2.18909025e+00,\n",
       "       -8.10098553e+00,  3.75392413e+00, -1.58726513e-01,  2.92005444e+00,\n",
       "        1.44721198e+00, -4.60581398e+00,  4.12856817e+00, -4.95872498e+00,\n",
       "        1.50819111e+00,  6.37603331e+00,  1.26508904e+00,  2.63886595e+00,\n",
       "       -1.69298911e+00, -3.33049273e+00,  4.14713526e+00,  2.47793937e+00,\n",
       "       -1.52120435e+00, -3.12723446e+00, -6.22113228e-01, -2.14409024e-01,\n",
       "        5.31185150e-01,  3.94832939e-02,  5.25815773e+00,  2.14189219e+00,\n",
       "       -1.84644103e+00,  4.69268751e+00, -6.47252274e+00, -3.68921566e+00,\n",
       "       -3.95033598e+00,  1.34414449e-01, -7.46750355e+00, -5.85467339e-01,\n",
       "        8.62598479e-01, -1.61930442e-01,  7.71740675e-01,  1.10768169e-01,\n",
       "        4.66040224e-02, -1.18750989e+00,  3.15080762e-01, -2.10038376e+00,\n",
       "        1.44997746e-01,  2.16466141e+00, -3.62916708e+00,  8.06251144e+00,\n",
       "       -5.09415483e+00,  1.34225821e+00,  3.99162441e-01,  1.62499440e+00,\n",
       "        1.85528708e+00, -1.53018246e+01, -2.73449898e-01, -2.48195148e+00,\n",
       "        3.87726617e+00, -1.29265714e+00,  2.58971167e+00, -1.85309723e-02,\n",
       "        4.24895287e-01, -8.19766343e-01, -4.74323034e+00, -1.25652432e-01,\n",
       "        5.92104912e-01,  1.66853070e+00, -1.67922601e-01, -1.68179309e+00,\n",
       "        2.41545701e+00, -3.43440580e+00, -4.11353499e-01, -2.26770639e+00,\n",
       "       -6.94777191e-01,  2.20465517e+00,  1.48778105e+00, -6.59596205e-01,\n",
       "       -5.21429586e+00, -1.16217721e+00,  2.84229064e+00, -1.25283957e+00,\n",
       "       -1.61122322e+00,  6.35631752e+00, -5.53993034e+00,  5.95696211e-01,\n",
       "       -2.90611100e+00, -3.96354198e-01, -1.36084461e+00, -2.55629587e+00,\n",
       "       -5.46030641e-01, -7.13455009e+00,  1.70011461e+00,  4.11550379e+00,\n",
       "       -3.10166311e+00, -5.76434660e+00,  2.50573611e+00,  1.08448014e-01,\n",
       "       -3.15733528e+00,  5.77544308e+00,  4.76277781e+00, -4.20024300e+00,\n",
       "        1.87967384e+00,  1.69084907e-01,  4.69505024e+00, -2.45962477e+00,\n",
       "       -3.04779887e+00, -1.47117400e+00,  1.28457153e+00, -7.60642707e-01,\n",
       "        2.05931926e+00, -1.28436100e+00,  2.11026859e+00,  3.76531899e-01,\n",
       "       -3.04603529e+00, -5.67023277e-01,  2.28461576e+00,  6.53228462e-01,\n",
       "        1.91743886e+00, -2.53520966e+00, -1.02978945e-02,  2.25995332e-01,\n",
       "        6.39608145e-01, -3.87149525e+00,  2.38243985e+00, -6.90983057e-01,\n",
       "       -8.75884771e-01, -4.55798769e+00,  1.42113125e+00,  2.50651979e+00,\n",
       "       -1.24722826e+00,  1.29415309e+00, -4.24363136e+00, -9.44203496e-01,\n",
       "       -1.38205302e+00,  1.88470900e+00,  1.65613329e+00,  6.77360106e+00,\n",
       "        2.98823023e+00, -7.95012355e-01, -3.60081887e+00, -5.25962591e-01,\n",
       "       -1.65079141e+00,  6.59655380e+01,  4.80899143e+00, -7.36331999e-01,\n",
       "       -3.68083382e+00, -5.72197855e-01,  6.42299235e-01,  3.29589629e+00,\n",
       "       -1.85824823e+00,  2.28760898e-01, -9.59789574e-01,  2.34335327e+00,\n",
       "       -1.93641758e+00,  5.23823977e+00, -3.25801462e-01, -2.77700853e+00,\n",
       "       -3.10893679e+00, -3.27794814e+00,  4.99671984e+00,  3.06537056e+00,\n",
       "       -4.97849131e+00,  1.02707231e+00,  2.18182683e+00,  8.36584508e-01,\n",
       "       -1.07041502e+00,  8.07605147e-01, -1.85137868e+00, -2.22474158e-01,\n",
       "        1.50971711e+00, -1.44233620e+00, -5.96799791e-01, -3.73985916e-01,\n",
       "       -6.28909990e-02,  6.38893723e-01,  3.36641431e+00,  2.86641169e+00,\n",
       "        2.93057442e+00,  6.82125926e-01, -2.83943105e+00,  4.24459636e-01,\n",
       "        2.58365202e+00,  2.28449821e+00,  1.40035284e+00,  4.49649000e+00,\n",
       "       -1.87142491e+00, -3.89815593e+00,  3.64727139e+00,  1.94730675e+00,\n",
       "        4.31914854e+00,  1.88742554e+00,  2.20980749e-01,  1.44703019e+00,\n",
       "       -1.13235369e-01, -1.41964412e+00, -3.39751554e+00,  1.44398665e+00,\n",
       "        4.40259886e+00, -4.27407026e+00,  3.52021480e+00,  2.29994431e-01,\n",
       "        3.73599100e+00,  6.41378641e+00, -1.70378357e-01, -3.01115894e+00,\n",
       "        3.03560472e+00, -6.66039753e+00, -3.33407378e+00, -2.15181518e+00,\n",
       "       -2.75877762e+00, -1.30311954e+00, -5.02171373e+00,  1.37847811e-01,\n",
       "        6.53637797e-02, -9.72713605e-02, -3.57182384e+00,  5.06291199e+00,\n",
       "       -2.28424621e+00, -2.11952019e+00,  1.78125405e+00, -1.60545245e-01,\n",
       "       -5.36483943e-01,  1.59271872e+00, -3.24505711e+00,  4.69565201e+00,\n",
       "        4.12142944e+00, -5.94258642e+00, -3.51765275e-01, -2.73629737e+00],\n",
       "      dtype=float32)"
      ]
     },
     "execution_count": 7,
     "metadata": {},
     "output_type": "execute_result"
    }
   ],
   "source": [
    "np.array(embd)"
   ]
  },
  {
   "cell_type": "code",
   "execution_count": 46,
   "metadata": {},
   "outputs": [],
   "source": [
    "text = \"ولذلك ترى المحكمة أنها تمتلك الاختصاص في مسألة إصدار فتوى ردا على الطلب الذي تقدمت به الجمعية العامة\"\n",
    "x = get_word_idx(text, \"فتوى\")\n",
    "\n",
    "embd_2 = get_word_vector(text, x, tokenizer, model, layers)\n",
    "\n",
    "x2 = get_word_idx(text, \"الجمعية\")\n",
    "embd_3 = get_word_vector(text, x2, tokenizer, model, layers)"
   ]
  },
  {
   "cell_type": "code",
   "execution_count": 47,
   "metadata": {},
   "outputs": [
    {
     "name": "stdout",
     "output_type": "stream",
     "text": [
      "[[0.8713753]]\n",
      "[[0.6754375]]\n"
     ]
    }
   ],
   "source": [
    "from sklearn.metrics.pairwise import cosine_similarity\n",
    "print(cosine_similarity(embd_2.reshape(1,-1),embd.reshape(1,-1)))\n",
    "print(cosine_similarity(embd_3.reshape(1,-1),embd.reshape(1,-1)))"
   ]
  },
  {
   "cell_type": "code",
   "execution_count": 95,
   "metadata": {},
   "outputs": [
    {
     "data": {
      "text/plain": [
       "[{'score': 0.40699440240859985,\n",
       "  'token': 4540,\n",
       "  'token_str': 'ح ل و ه',\n",
       "  'sequence': 'الحياه حلوه'},\n",
       " {'score': 0.043277643620967865,\n",
       "  'token': 8244,\n",
       "  'token_str': 'ع ل م ت ن ي',\n",
       "  'sequence': 'الحياه علمتني'},\n",
       " {'score': 0.040454622358083725,\n",
       "  'token': 5551,\n",
       "  'token_str': 'ج م ي ل ه',\n",
       "  'sequence': 'الحياه جميله'},\n",
       " {'score': 0.03739464655518532,\n",
       "  'token': 14477,\n",
       "  'token_str': 'ت ج ا ر ب',\n",
       "  'sequence': 'الحياه تجارب'},\n",
       " {'score': 0.0230946633964777,\n",
       "  'token': 18794,\n",
       "  'token_str': 'ق ص ي ر ه',\n",
       "  'sequence': 'الحياه قصيره'}]"
      ]
     },
     "execution_count": 95,
     "metadata": {},
     "output_type": "execute_result"
    }
   ],
   "source": [
    "fill(\"الحياه [MASK]\" )"
   ]
  },
  {
   "cell_type": "code",
   "execution_count": 109,
   "metadata": {},
   "outputs": [
    {
     "name": "stdout",
     "output_type": "stream",
     "text": [
      "Collecting torchmetrics\n",
      "  Downloading torchmetrics-0.10.2-py3-none-any.whl (529 kB)\n",
      "Requirement already satisfied: numpy>=1.17.2 in c:\\users\\river\\anaconda3\\envs\\tf\\lib\\site-packages (from torchmetrics) (1.21.5)\n",
      "Requirement already satisfied: torch>=1.3.1 in c:\\users\\river\\anaconda3\\envs\\tf\\lib\\site-packages (from torchmetrics) (1.12.0)\n",
      "Requirement already satisfied: packaging in c:\\users\\river\\anaconda3\\envs\\tf\\lib\\site-packages (from torchmetrics) (21.3)\n",
      "Requirement already satisfied: typing-extensions in c:\\users\\river\\anaconda3\\envs\\tf\\lib\\site-packages (from torch>=1.3.1->torchmetrics) (3.10.0.2)\n",
      "Requirement already satisfied: pyparsing!=3.0.5,>=2.0.2 in c:\\users\\river\\anaconda3\\envs\\tf\\lib\\site-packages (from packaging->torchmetrics) (3.0.4)\n",
      "Installing collected packages: torchmetrics\n",
      "Successfully installed torchmetrics-0.10.2\n",
      "Note: you may need to restart the kernel to use updated packages.\n"
     ]
    }
   ],
   "source": [
    "%pip install torchmetrics"
   ]
  },
  {
   "cell_type": "code",
   "execution_count": 110,
   "metadata": {},
   "outputs": [
    {
     "name": "stderr",
     "output_type": "stream",
     "text": [
      "c:\\Users\\river\\anaconda3\\envs\\tf\\lib\\site-packages\\torchvision\\io\\image.py:13: UserWarning: Failed to load image Python extension: [WinError 127] The specified procedure could not be found\n",
      "  warn(f\"Failed to load image Python extension: {e}\")\n"
     ]
    }
   ],
   "source": [
    "from torchmetrics.text.bert import BERTScore"
   ]
  },
  {
   "cell_type": "code",
   "execution_count": 103,
   "metadata": {},
   "outputs": [],
   "source": [
    "sent = \"الحياه حلوه\" \n",
    "idx = get_word_idx(sent, \"حلوه\")\n",
    "\n",
    "word_embedding = get_word_vector(sent, idx, tokenizer, model, layers)\n",
    "\n",
    "sent2 = \"الحياه وحشه\"\n",
    "idx2 = get_word_idx(sent2, \"وحشه\")\n",
    "\n",
    "word_embedding2 = get_word_vector(sent2, idx2, tokenizer, model, layers)\n",
    "\n",
    "sent3 = \"الحياه جميله\" \n",
    "idx3 = get_word_idx(sent3, \"جميله\")\n",
    "\n",
    "word_embedding3 = get_word_vector(sent3, idx3, tokenizer, model, layers)\n",
    "\n",
    "sent4 = \"الحياه تجارب\" \n",
    "idx4 = get_word_idx(sent4, \"تجارب\")\n",
    "\n",
    "word_embedding4 = get_word_vector(sent4, idx4, tokenizer, model, layers)\n"
   ]
  },
  {
   "cell_type": "code",
   "execution_count": 104,
   "metadata": {},
   "outputs": [],
   "source": [
    "sent3 = \"جميله\" \n",
    "idx3 = get_word_idx(sent3, \"جميله\")\n",
    "\n",
    "word_embedding5 = get_word_vector(sent3, idx3, tokenizer, model, layers)"
   ]
  },
  {
   "cell_type": "code",
   "execution_count": 129,
   "metadata": {},
   "outputs": [],
   "source": [
    "sentence1 =\"انا رايح اركب المشروع\"\n",
    "sentence2 =\"كان لازم اخلص المشروع فى معاده\"\n",
    "sentence3 =\"المشروع عمل حادثه بينا فى الطريق\"\n",
    "id1 = get_word_idx(sentence1, \"المشروع\")\n",
    "id2 = get_word_idx(sentence2, \"المشروع\")\n",
    "id3 = get_word_idx(sentence3, \"المشروع\")\n",
    "\n",
    "word_embedding_bus = get_word_vector(sentence1, id1, tokenizer, model, layers)\n",
    "word_embedding_project = get_word_vector(sentence2, id2, tokenizer, model, layers)\n",
    "word_embedding_bus_2 = get_word_vector(sentence3, id3, tokenizer, model, layers)"
   ]
  },
  {
   "cell_type": "code",
   "execution_count": 137,
   "metadata": {},
   "outputs": [
    {
     "data": {
      "text/plain": [
       "['انا', 'رايح', 'اركب', 'المشروع']"
      ]
     },
     "execution_count": 137,
     "metadata": {},
     "output_type": "execute_result"
    }
   ],
   "source": [
    "tokenizer.tokenize(\"انا رايح اركب المشروع\")"
   ]
  },
  {
   "cell_type": "code",
   "execution_count": 147,
   "metadata": {},
   "outputs": [
    {
     "name": "stdout",
     "output_type": "stream",
     "text": [
      "False\n"
     ]
    },
    {
     "data": {
      "text/plain": [
       "['انت', 'نر', '##م', 'يلا']"
      ]
     },
     "execution_count": 147,
     "metadata": {},
     "output_type": "execute_result"
    }
   ],
   "source": [
    "print('نرم' in tokenizer.vocab.keys())\n",
    "tokenizer.tokenize(\"انت نرم يلا\")"
   ]
  },
  {
   "cell_type": "code",
   "execution_count": 146,
   "metadata": {},
   "outputs": [
    {
     "data": {
      "text/plain": [
       "[{'score': 0.1291009485721588,\n",
       "  'token': 22683,\n",
       "  'token_str': 'ع ب ي ط',\n",
       "  'sequence': 'انت عبيط يلا'},\n",
       " {'score': 0.08621302992105484,\n",
       "  'token': 32469,\n",
       "  'token_str': 'ك د ا ب',\n",
       "  'sequence': 'انت كداب يلا'},\n",
       " {'score': 0.044884275645017624,\n",
       "  'token': 33152,\n",
       "  'token_str': 'خ و ل',\n",
       "  'sequence': 'انت خول يلا'},\n",
       " {'score': 0.035633184015750885,\n",
       "  'token': 14027,\n",
       "  'token_str': 'ك ا ف ر',\n",
       "  'sequence': 'انت كافر يلا'},\n",
       " {'score': 0.03474877402186394,\n",
       "  'token': 3306,\n",
       "  'token_str': 'م ي ن',\n",
       "  'sequence': 'انت مين يلا'}]"
      ]
     },
     "execution_count": 146,
     "metadata": {},
     "output_type": "execute_result"
    }
   ],
   "source": [
    "fill(\"انت [MASK] يلا\")"
   ]
  },
  {
   "cell_type": "code",
   "execution_count": 135,
   "metadata": {},
   "outputs": [
    {
     "data": {
      "text/plain": [
       "[{'score': 0.07754268497228622,\n",
       "  'token': 12264,\n",
       "  'token_str': 'ع ج ل',\n",
       "  'sequence': 'انا رايح اركب عجل'},\n",
       " {'score': 0.052763354033231735,\n",
       "  'token': 33856,\n",
       "  'token_str': 'ت ا ك س ي',\n",
       "  'sequence': 'انا رايح اركب تاكسي'},\n",
       " {'score': 0.04821640998125076,\n",
       "  'token': 30165,\n",
       "  'token_str': 'ا ل ق ط ر',\n",
       "  'sequence': 'انا رايح اركب القطر'},\n",
       " {'score': 0.04384848475456238,\n",
       "  'token': 60969,\n",
       "  'token_str': 'ت و ك ت و ك',\n",
       "  'sequence': 'انا رايح اركب توكتوك'},\n",
       " {'score': 0.04264984279870987,\n",
       "  'token': 1936,\n",
       "  'token_str': 'u r l',\n",
       "  'sequence': 'انا رايح اركب url'}]"
      ]
     },
     "execution_count": 135,
     "metadata": {},
     "output_type": "execute_result"
    }
   ],
   "source": [
    "fill(\"انا رايح اركب [MASK]\")"
   ]
  },
  {
   "cell_type": "code",
   "execution_count": 136,
   "metadata": {},
   "outputs": [
    {
     "data": {
      "text/plain": [
       "[{'score': 0.07466279715299606,\n",
       "  'token': 15715,\n",
       "  'token_str': 'ا ل م ن ه ج',\n",
       "  'sequence': 'كان لازم اخلص المنهج فى معاده'},\n",
       " {'score': 0.04484668746590614,\n",
       "  'token': 11891,\n",
       "  'token_str': 'ا م ت ح ا ن ا ت',\n",
       "  'sequence': 'كان لازم اخلص امتحانات فى معاده'},\n",
       " {'score': 0.039108142256736755,\n",
       "  'token': 22167,\n",
       "  'token_str': 'ا ل م ا د ه',\n",
       "  'sequence': 'كان لازم اخلص الماده فى معاده'},\n",
       " {'score': 0.030206598341464996,\n",
       "  'token': 23722,\n",
       "  'token_str': 'م ذ ا ك ر ة',\n",
       "  'sequence': 'كان لازم اخلص مذاكرة فى معاده'},\n",
       " {'score': 0.019784992560744286,\n",
       "  'token': 13301,\n",
       "  'token_str': 'ا ل م ا د ة',\n",
       "  'sequence': 'كان لازم اخلص المادة فى معاده'}]"
      ]
     },
     "execution_count": 136,
     "metadata": {},
     "output_type": "execute_result"
    }
   ],
   "source": [
    "fill(\"كان لازم اخلص [MASK] فى معاده\")"
   ]
  },
  {
   "cell_type": "markdown",
   "metadata": {},
   "source": [
    "## BERTScore"
   ]
  },
  {
   "cell_type": "code",
   "execution_count": null,
   "metadata": {},
   "outputs": [],
   "source": [
    "bertscore = BERTScore(model = model,tokenizer=tokenizer)\n",
    "score = bertscore(sent, sent2)"
   ]
  },
  {
   "cell_type": "code",
   "execution_count": 113,
   "metadata": {},
   "outputs": [
    {
     "data": {
      "text/plain": [
       "{'precision': 0.9911123514175415,\n",
       " 'recall': 0.9898421168327332,\n",
       " 'f1': 0.9904769062995911}"
      ]
     },
     "execution_count": 113,
     "metadata": {},
     "output_type": "execute_result"
    }
   ],
   "source": [
    "score"
   ]
  },
  {
   "cell_type": "code",
   "execution_count": 118,
   "metadata": {},
   "outputs": [
    {
     "data": {
      "text/plain": [
       "{'precision': 0.996008038520813,\n",
       " 'recall': 0.9945570230484009,\n",
       " 'f1': 0.9952820539474487}"
      ]
     },
     "execution_count": 118,
     "metadata": {},
     "output_type": "execute_result"
    }
   ],
   "source": [
    "bertscore(\"دا مجرد راى و الله اعلم و ابقا\", \"دا مجرد راى و ربنا اعلم و ابقا\")"
   ]
  },
  {
   "cell_type": "code",
   "execution_count": 120,
   "metadata": {},
   "outputs": [
    {
     "data": {
      "text/plain": [
       "{'precision': 0.991013765335083,\n",
       " 'recall': 0.990456759929657,\n",
       " 'f1': 0.9907351732254028}"
      ]
     },
     "execution_count": 120,
     "metadata": {},
     "output_type": "execute_result"
    }
   ],
   "source": [
    "bertscore(\"دا مجرد راى و الله اعلم و ابقا\", \"دا مجرد فكر و الله معنا ان شاء\")"
   ]
  },
  {
   "cell_type": "code",
   "execution_count": 121,
   "metadata": {},
   "outputs": [
    {
     "data": {
      "text/plain": [
       "{'precision': 0.9899436831474304,\n",
       " 'recall': 0.9903251528739929,\n",
       " 'f1': 0.9901343584060669}"
      ]
     },
     "execution_count": 121,
     "metadata": {},
     "output_type": "execute_result"
    }
   ],
   "source": [
    "bertscore(\"دا مجرد راى و الله اعلم و ابقا\", \"دا مجرد حلم و الله معنا ان شاء\")"
   ]
  },
  {
   "cell_type": "code",
   "execution_count": 122,
   "metadata": {},
   "outputs": [
    {
     "data": {
      "text/plain": [
       "{'precision': 0.9861608743667603,\n",
       " 'recall': 0.9894135594367981,\n",
       " 'f1': 0.9877845048904419}"
      ]
     },
     "execution_count": 122,
     "metadata": {},
     "output_type": "execute_result"
    }
   ],
   "source": [
    "bertscore(\"دا مجرد راى و الله اعلم و ابقا\", \"الله معنا ان شاء\")\n"
   ]
  },
  {
   "cell_type": "code",
   "execution_count": 125,
   "metadata": {},
   "outputs": [
    {
     "data": {
      "text/plain": [
       "{'precision': 0.9909185171127319,\n",
       " 'recall': 0.9884927272796631,\n",
       " 'f1': 0.9897041320800781}"
      ]
     },
     "execution_count": 125,
     "metadata": {},
     "output_type": "execute_result"
    }
   ],
   "source": [
    "bertscore(sentence1,sentence2)"
   ]
  },
  {
   "cell_type": "markdown",
   "metadata": {},
   "source": [
    "## Cosine Similarity"
   ]
  },
  {
   "cell_type": "code",
   "execution_count": 106,
   "metadata": {},
   "outputs": [
    {
     "data": {
      "text/plain": [
       "(1, 768)"
      ]
     },
     "execution_count": 106,
     "metadata": {},
     "output_type": "execute_result"
    }
   ],
   "source": [
    "word_embedding = np.array(word_embedding).reshape(1,-1)\n",
    "word_embedding2 = np.array(word_embedding2).reshape(1,-1)\n",
    "word_embedding3 = np.array(word_embedding3).reshape(1,-1)\n",
    "word_embedding4 = np.array(word_embedding4).reshape(1,-1)\n",
    "word_embedding5 = np.array(word_embedding5).reshape(1,-1)\n",
    "word_embedding.shape"
   ]
  },
  {
   "cell_type": "code",
   "execution_count": 107,
   "metadata": {},
   "outputs": [
    {
     "data": {
      "text/plain": [
       "array([[0.88985634]], dtype=float32)"
      ]
     },
     "execution_count": 107,
     "metadata": {},
     "output_type": "execute_result"
    }
   ],
   "source": [
    "cosine_similarity(word_embedding3,word_embedding5)"
   ]
  },
  {
   "cell_type": "markdown",
   "metadata": {},
   "source": [
    "* حلوه vs وحشه"
   ]
  },
  {
   "cell_type": "code",
   "execution_count": 89,
   "metadata": {},
   "outputs": [
    {
     "data": {
      "text/plain": [
       "array([[0.85630375]], dtype=float32)"
      ]
     },
     "execution_count": 89,
     "metadata": {},
     "output_type": "execute_result"
    }
   ],
   "source": [
    "from sklearn.metrics.pairwise import cosine_similarity\n",
    "cosine_similarity(word_embedding,word_embedding2)"
   ]
  },
  {
   "cell_type": "markdown",
   "metadata": {},
   "source": [
    "* حلوه vs جميله"
   ]
  },
  {
   "cell_type": "code",
   "execution_count": 90,
   "metadata": {},
   "outputs": [
    {
     "data": {
      "text/plain": [
       "array([[0.92183995]], dtype=float32)"
      ]
     },
     "execution_count": 90,
     "metadata": {},
     "output_type": "execute_result"
    }
   ],
   "source": [
    "cosine_similarity(word_embedding,word_embedding3)\n"
   ]
  },
  {
   "cell_type": "markdown",
   "metadata": {},
   "source": [
    "* جميله vs وحشه"
   ]
  },
  {
   "cell_type": "code",
   "execution_count": 92,
   "metadata": {},
   "outputs": [
    {
     "data": {
      "text/plain": [
       "array([[0.880145]], dtype=float32)"
      ]
     },
     "execution_count": 92,
     "metadata": {},
     "output_type": "execute_result"
    }
   ],
   "source": [
    "cosine_similarity(word_embedding2,word_embedding3)\n"
   ]
  },
  {
   "cell_type": "markdown",
   "metadata": {},
   "source": [
    "* جميله vs تجارب"
   ]
  },
  {
   "cell_type": "code",
   "execution_count": 101,
   "metadata": {},
   "outputs": [
    {
     "data": {
      "text/plain": [
       "array([[0.77350855]], dtype=float32)"
      ]
     },
     "execution_count": 101,
     "metadata": {},
     "output_type": "execute_result"
    }
   ],
   "source": [
    "cosine_similarity(word_embedding4,word_embedding)\n"
   ]
  },
  {
   "cell_type": "code",
   "execution_count": 133,
   "metadata": {},
   "outputs": [
    {
     "data": {
      "text/plain": [
       "array([[0.9164676]], dtype=float32)"
      ]
     },
     "execution_count": 133,
     "metadata": {},
     "output_type": "execute_result"
    }
   ],
   "source": [
    "cosine_similarity(word_embedding_project.reshape(1,-1), word_embedding_bus.reshape(1,-1))"
   ]
  },
  {
   "cell_type": "code",
   "execution_count": 130,
   "metadata": {},
   "outputs": [
    {
     "data": {
      "text/plain": [
       "array([[0.87750906]], dtype=float32)"
      ]
     },
     "execution_count": 130,
     "metadata": {},
     "output_type": "execute_result"
    }
   ],
   "source": [
    "cosine_similarity(word_embedding_bus.reshape(1,-1), word_embedding_bus_2.reshape(1,-1))"
   ]
  },
  {
   "cell_type": "code",
   "execution_count": 132,
   "metadata": {},
   "outputs": [
    {
     "data": {
      "text/plain": [
       "array([[0.8954044]], dtype=float32)"
      ]
     },
     "execution_count": 132,
     "metadata": {},
     "output_type": "execute_result"
    }
   ],
   "source": [
    "cosine_similarity(word_embedding_project.reshape(1,-1), word_embedding_bus_2.reshape(1,-1))"
   ]
  },
  {
   "cell_type": "markdown",
   "metadata": {},
   "source": [
    "## Cross Entropy"
   ]
  },
  {
   "cell_type": "code",
   "execution_count": 160,
   "metadata": {},
   "outputs": [
    {
     "name": "stdout",
     "output_type": "stream",
     "text": [
      "Average Cross Entropy: -7973.970 nats\n"
     ]
    }
   ],
   "source": [
    "# calculate cross entropy with keras\n",
    "from numpy import asarray\n",
    "from keras import backend\n",
    "from keras.losses import categorical_crossentropy\n",
    "# prepare classification data\n",
    "p = asarray(word_embedding)\n",
    "q = asarray(word_embedding2)\n",
    "# convert to keras variables\n",
    "y_true = backend.variable(p)\n",
    "y_pred = backend.variable(q)\n",
    "# calculate the average cross-entropy\n",
    "mean_ce = backend.eval(categorical_crossentropy(y_true, y_pred))\n",
    "print('Average Cross Entropy: %.3f nats' % mean_ce)"
   ]
  }
 ],
 "metadata": {
  "kernelspec": {
   "display_name": "Python 3.9.7 ('tf')",
   "language": "python",
   "name": "python3"
  },
  "language_info": {
   "codemirror_mode": {
    "name": "ipython",
    "version": 3
   },
   "file_extension": ".py",
   "mimetype": "text/x-python",
   "name": "python",
   "nbconvert_exporter": "python",
   "pygments_lexer": "ipython3",
   "version": "3.9.7"
  },
  "orig_nbformat": 4,
  "vscode": {
   "interpreter": {
    "hash": "fa01416571b4275a2309b961d1bd16d947c31c3c9a0101a66fce0e66d3b1e2ad"
   }
  }
 },
 "nbformat": 4,
 "nbformat_minor": 2
}
