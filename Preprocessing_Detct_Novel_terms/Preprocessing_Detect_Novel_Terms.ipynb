{
  "cells": [
    {
      "cell_type": "markdown",
      "metadata": {
        "id": "CEc6U3Thv7Rt"
      },
      "source": [
        "#**Reading the data**"
      ]
    },
    {
      "cell_type": "code",
      "execution_count": 1,
      "metadata": {
        "id": "m4djCHC6JFxl"
      },
      "outputs": [
        {
          "name": "stderr",
          "output_type": "stream",
          "text": [
            "c:\\Users\\river\\anaconda3\\lib\\site-packages\\numpy\\_distributor_init.py:30: UserWarning: loaded more than 1 DLL from .libs:\n",
            "c:\\Users\\river\\anaconda3\\lib\\site-packages\\numpy\\.libs\\libopenblas.FB5AE2TYXYH2IJRDKGDGQ3XBKLKTF43H.gfortran-win_amd64.dll\n",
            "c:\\Users\\river\\anaconda3\\lib\\site-packages\\numpy\\.libs\\libopenblas.WCDJNK7YVMPZQ2ME2ZZHJJRJ3JIKNDB7.gfortran-win_amd64.dll\n",
            "  warnings.warn(\"loaded more than 1 DLL from .libs:\"\n",
            "c:\\Users\\river\\anaconda3\\lib\\site-packages\\scipy\\__init__.py:138: UserWarning: A NumPy version >=1.16.5 and <1.23.0 is required for this version of SciPy (detected version 1.23.1)\n",
            "  warnings.warn(f\"A NumPy version >={np_minversion} and <{np_maxversion} is required for this version of \"\n"
          ]
        }
      ],
      "source": [
        "import re\n",
        "import pandas as pd\n",
        "from collections import Counter\n",
        "import nltk\n",
        "from nltk.corpus import wordnet\n",
        "# from nltk.corpus import stopwords\n",
        "from nltk.stem import WordNetLemmatizer\n",
        "from nltk.stem.porter import PorterStemmer\n",
        "import numpy as np\n",
        "import os\n",
        "import warnings\n",
        "import itertools\n",
        "# import emoji\n",
        "import string\n",
        "warnings.filterwarnings(\"ignore\")"
      ]
    },
    {
      "cell_type": "code",
      "execution_count": 2,
      "metadata": {
        "colab": {
          "base_uri": "https://localhost:8080/"
        },
        "id": "7V4g4BGsKqGZ",
        "outputId": "c72fd7b8-d39e-407e-ed89-ea847c8861f2"
      },
      "outputs": [
        {
          "name": "stdout",
          "output_type": "stream",
          "text": [
            "/usr/local/lib/python3.7/dist-packages/gdown/cli.py:131: FutureWarning: Option `--id` was deprecated in version 4.3.1 and will be removed in 5.0. You don't need to pass it anymore to use a file ID.\n",
            "  category=FutureWarning,\n",
            "Downloading...\n",
            "From: https://drive.google.com/uc?id=1DEiFMHK1ng0G0Z5Lju1e-13ClwQJu1-V\n",
            "To: /content/Political Tweets.xlsx\n",
            "100% 12.3M/12.3M [00:00<00:00, 90.0MB/s]\n"
          ]
        }
      ],
      "source": [
        "# !gdown --id 1DEiFMHK1ng0G0Z5Lju1e-13ClwQJu1-V"
      ]
    },
    {
      "cell_type": "code",
      "execution_count": 2,
      "metadata": {
        "id": "YNLubbSWK_CJ"
      },
      "outputs": [],
      "source": [
        "fileName = \"RestOf_AOC_youm7_comments\"\n",
        "data = pd.read_excel(\"../Data/AOC/\"+fileName+\".xlsx\")"
      ]
    },
    {
      "cell_type": "code",
      "execution_count": 3,
      "metadata": {},
      "outputs": [
        {
          "data": {
            "text/html": [
              "<div>\n",
              "<style scoped>\n",
              "    .dataframe tbody tr th:only-of-type {\n",
              "        vertical-align: middle;\n",
              "    }\n",
              "\n",
              "    .dataframe tbody tr th {\n",
              "        vertical-align: top;\n",
              "    }\n",
              "\n",
              "    .dataframe thead th {\n",
              "        text-align: right;\n",
              "    }\n",
              "</style>\n",
              "<table border=\"1\" class=\"dataframe\">\n",
              "  <thead>\n",
              "    <tr style=\"text-align: right;\">\n",
              "      <th></th>\n",
              "      <th>Text</th>\n",
              "      <th>Year</th>\n",
              "      <th>Source</th>\n",
              "    </tr>\n",
              "  </thead>\n",
              "  <tbody>\n",
              "    <tr>\n",
              "      <th>0</th>\n",
              "      <td>تحياتي لكم جميعا</td>\n",
              "      <td>2010</td>\n",
              "      <td>AOC_youm7_comments</td>\n",
              "    </tr>\n",
              "    <tr>\n",
              "      <th>1</th>\n",
              "      <td>ودي تتشم ولا تتقرقش .</td>\n",
              "      <td>2010</td>\n",
              "      <td>AOC_youm7_comments</td>\n",
              "    </tr>\n",
              "    <tr>\n",
              "      <th>2</th>\n",
              "      <td>هو كل يوم نسمع فتوى جديده . ماكلنا عارفين من ...</td>\n",
              "      <td>2010</td>\n",
              "      <td>AOC_youm7_comments</td>\n",
              "    </tr>\n",
              "    <tr>\n",
              "      <th>3</th>\n",
              "      <td>يفطر وعدة من أيام أخر زي ما العالم ماشي من أل...</td>\n",
              "      <td>2010</td>\n",
              "      <td>AOC_youm7_comments</td>\n",
              "    </tr>\n",
              "    <tr>\n",
              "      <th>4</th>\n",
              "      <td>بلاش اختراعات يا عم الحاج .</td>\n",
              "      <td>2010</td>\n",
              "      <td>AOC_youm7_comments</td>\n",
              "    </tr>\n",
              "    <tr>\n",
              "      <th>...</th>\n",
              "      <td>...</td>\n",
              "      <td>...</td>\n",
              "      <td>...</td>\n",
              "    </tr>\n",
              "    <tr>\n",
              "      <th>333219</th>\n",
              "      <td>فية حارس جااامد جدااااا فى طلائع الجيش اسمة (...</td>\n",
              "      <td>2010</td>\n",
              "      <td>AOC_youm7_comments</td>\n",
              "    </tr>\n",
              "    <tr>\n",
              "      <th>333220</th>\n",
              "      <td>اتمني من ادارة فريق الجونة ان تتعاقد مع الحار...</td>\n",
              "      <td>2010</td>\n",
              "      <td>AOC_youm7_comments</td>\n",
              "    </tr>\n",
              "    <tr>\n",
              "      <th>333221</th>\n",
              "      <td>في حارس مرمة اسمة محمد الجرادة بيعلب في المنو...</td>\n",
              "      <td>2010</td>\n",
              "      <td>AOC_youm7_comments</td>\n",
              "    </tr>\n",
              "    <tr>\n",
              "      <th>333222</th>\n",
              "      <td>يوجد حارس رائع ونادى انبى كان يريده</td>\n",
              "      <td>2010</td>\n",
              "      <td>AOC_youm7_comments</td>\n",
              "    </tr>\n",
              "    <tr>\n",
              "      <th>333223</th>\n",
              "      <td>الحارس احمد حمدين</td>\n",
              "      <td>2010</td>\n",
              "      <td>AOC_youm7_comments</td>\n",
              "    </tr>\n",
              "  </tbody>\n",
              "</table>\n",
              "<p>333224 rows × 3 columns</p>\n",
              "</div>"
            ],
            "text/plain": [
              "                                                     Text  Year  \\\n",
              "0                                       تحياتي لكم جميعا   2010   \n",
              "1                                  ودي تتشم ولا تتقرقش .   2010   \n",
              "2        هو كل يوم نسمع فتوى جديده . ماكلنا عارفين من ...  2010   \n",
              "3        يفطر وعدة من أيام أخر زي ما العالم ماشي من أل...  2010   \n",
              "4                            بلاش اختراعات يا عم الحاج .   2010   \n",
              "...                                                   ...   ...   \n",
              "333219   فية حارس جااامد جدااااا فى طلائع الجيش اسمة (...  2010   \n",
              "333220   اتمني من ادارة فريق الجونة ان تتعاقد مع الحار...  2010   \n",
              "333221   في حارس مرمة اسمة محمد الجرادة بيعلب في المنو...  2010   \n",
              "333222               يوجد حارس رائع ونادى انبى كان يريده   2010   \n",
              "333223                                 الحارس احمد حمدين   2010   \n",
              "\n",
              "                    Source  \n",
              "0       AOC_youm7_comments  \n",
              "1       AOC_youm7_comments  \n",
              "2       AOC_youm7_comments  \n",
              "3       AOC_youm7_comments  \n",
              "4       AOC_youm7_comments  \n",
              "...                    ...  \n",
              "333219  AOC_youm7_comments  \n",
              "333220  AOC_youm7_comments  \n",
              "333221  AOC_youm7_comments  \n",
              "333222  AOC_youm7_comments  \n",
              "333223  AOC_youm7_comments  \n",
              "\n",
              "[333224 rows x 3 columns]"
            ]
          },
          "execution_count": 3,
          "metadata": {},
          "output_type": "execute_result"
        }
      ],
      "source": [
        "data"
      ]
    },
    {
      "cell_type": "code",
      "execution_count": 4,
      "metadata": {
        "colab": {
          "base_uri": "https://localhost:8080/",
          "height": 35
        },
        "id": "Nxr7CaURexd5",
        "outputId": "160abeb3-d152-46ed-81d2-5fc4c4427fe1"
      },
      "outputs": [
        {
          "data": {
            "text/plain": [
              "' وبالتالى فافطار المرض اولى لان المريض يحتاج لعلاج وغذاء فى نفس الوقت '"
            ]
          },
          "execution_count": 4,
          "metadata": {},
          "output_type": "execute_result"
        }
      ],
      "source": [
        "teeext=data.iloc[11,0]\n",
        "teeext"
      ]
    },
    {
      "cell_type": "code",
      "execution_count": 5,
      "metadata": {
        "colab": {
          "base_uri": "https://localhost:8080/",
          "height": 424
        },
        "id": "-tMwo0nr5NuK",
        "outputId": "fb1775ad-5471-478b-9083-2e6a73207ead"
      },
      "outputs": [
        {
          "data": {
            "text/html": [
              "<div>\n",
              "<style scoped>\n",
              "    .dataframe tbody tr th:only-of-type {\n",
              "        vertical-align: middle;\n",
              "    }\n",
              "\n",
              "    .dataframe tbody tr th {\n",
              "        vertical-align: top;\n",
              "    }\n",
              "\n",
              "    .dataframe thead th {\n",
              "        text-align: right;\n",
              "    }\n",
              "</style>\n",
              "<table border=\"1\" class=\"dataframe\">\n",
              "  <thead>\n",
              "    <tr style=\"text-align: right;\">\n",
              "      <th></th>\n",
              "      <th>Text</th>\n",
              "      <th>Year</th>\n",
              "      <th>Source</th>\n",
              "    </tr>\n",
              "  </thead>\n",
              "  <tbody>\n",
              "    <tr>\n",
              "      <th>0</th>\n",
              "      <td>تحياتي لكم جميعا</td>\n",
              "      <td>2010</td>\n",
              "      <td>AOC_youm7_comments</td>\n",
              "    </tr>\n",
              "    <tr>\n",
              "      <th>1</th>\n",
              "      <td>ودي تتشم ولا تتقرقش .</td>\n",
              "      <td>2010</td>\n",
              "      <td>AOC_youm7_comments</td>\n",
              "    </tr>\n",
              "    <tr>\n",
              "      <th>2</th>\n",
              "      <td>هو كل يوم نسمع فتوى جديده . ماكلنا عارفين من ...</td>\n",
              "      <td>2010</td>\n",
              "      <td>AOC_youm7_comments</td>\n",
              "    </tr>\n",
              "    <tr>\n",
              "      <th>3</th>\n",
              "      <td>يفطر وعدة من أيام أخر زي ما العالم ماشي من أل...</td>\n",
              "      <td>2010</td>\n",
              "      <td>AOC_youm7_comments</td>\n",
              "    </tr>\n",
              "    <tr>\n",
              "      <th>4</th>\n",
              "      <td>بلاش اختراعات يا عم الحاج .</td>\n",
              "      <td>2010</td>\n",
              "      <td>AOC_youm7_comments</td>\n",
              "    </tr>\n",
              "    <tr>\n",
              "      <th>...</th>\n",
              "      <td>...</td>\n",
              "      <td>...</td>\n",
              "      <td>...</td>\n",
              "    </tr>\n",
              "    <tr>\n",
              "      <th>333219</th>\n",
              "      <td>فية حارس جااامد جدااااا فى طلائع الجيش اسمة (...</td>\n",
              "      <td>2010</td>\n",
              "      <td>AOC_youm7_comments</td>\n",
              "    </tr>\n",
              "    <tr>\n",
              "      <th>333220</th>\n",
              "      <td>اتمني من ادارة فريق الجونة ان تتعاقد مع الحار...</td>\n",
              "      <td>2010</td>\n",
              "      <td>AOC_youm7_comments</td>\n",
              "    </tr>\n",
              "    <tr>\n",
              "      <th>333221</th>\n",
              "      <td>في حارس مرمة اسمة محمد الجرادة بيعلب في المنو...</td>\n",
              "      <td>2010</td>\n",
              "      <td>AOC_youm7_comments</td>\n",
              "    </tr>\n",
              "    <tr>\n",
              "      <th>333222</th>\n",
              "      <td>يوجد حارس رائع ونادى انبى كان يريده</td>\n",
              "      <td>2010</td>\n",
              "      <td>AOC_youm7_comments</td>\n",
              "    </tr>\n",
              "    <tr>\n",
              "      <th>333223</th>\n",
              "      <td>الحارس احمد حمدين</td>\n",
              "      <td>2010</td>\n",
              "      <td>AOC_youm7_comments</td>\n",
              "    </tr>\n",
              "  </tbody>\n",
              "</table>\n",
              "<p>333224 rows × 3 columns</p>\n",
              "</div>"
            ],
            "text/plain": [
              "                                                     Text  Year  \\\n",
              "0                                       تحياتي لكم جميعا   2010   \n",
              "1                                  ودي تتشم ولا تتقرقش .   2010   \n",
              "2        هو كل يوم نسمع فتوى جديده . ماكلنا عارفين من ...  2010   \n",
              "3        يفطر وعدة من أيام أخر زي ما العالم ماشي من أل...  2010   \n",
              "4                            بلاش اختراعات يا عم الحاج .   2010   \n",
              "...                                                   ...   ...   \n",
              "333219   فية حارس جااامد جدااااا فى طلائع الجيش اسمة (...  2010   \n",
              "333220   اتمني من ادارة فريق الجونة ان تتعاقد مع الحار...  2010   \n",
              "333221   في حارس مرمة اسمة محمد الجرادة بيعلب في المنو...  2010   \n",
              "333222               يوجد حارس رائع ونادى انبى كان يريده   2010   \n",
              "333223                                 الحارس احمد حمدين   2010   \n",
              "\n",
              "                    Source  \n",
              "0       AOC_youm7_comments  \n",
              "1       AOC_youm7_comments  \n",
              "2       AOC_youm7_comments  \n",
              "3       AOC_youm7_comments  \n",
              "4       AOC_youm7_comments  \n",
              "...                    ...  \n",
              "333219  AOC_youm7_comments  \n",
              "333220  AOC_youm7_comments  \n",
              "333221  AOC_youm7_comments  \n",
              "333222  AOC_youm7_comments  \n",
              "333223  AOC_youm7_comments  \n",
              "\n",
              "[333224 rows x 3 columns]"
            ]
          },
          "execution_count": 5,
          "metadata": {},
          "output_type": "execute_result"
        }
      ],
      "source": [
        "data"
      ]
    },
    {
      "cell_type": "code",
      "execution_count": 6,
      "metadata": {
        "colab": {
          "base_uri": "https://localhost:8080/"
        },
        "id": "Miq0f49T5W4q",
        "outputId": "94bf809e-1efc-4889-de10-77d55001d6a9"
      },
      "outputs": [
        {
          "data": {
            "text/plain": [
              "count                                                333224\n",
              "unique                                               295026\n",
              "top        إِنَّا نَحْنُ نَزَّلْنَا الذِّكْرَ وَإِنَّا ل...\n",
              "freq                                                    640\n",
              "Name: Text, dtype: object"
            ]
          },
          "execution_count": 6,
          "metadata": {},
          "output_type": "execute_result"
        }
      ],
      "source": [
        "data['Text'].describe()"
      ]
    },
    {
      "cell_type": "code",
      "execution_count": 7,
      "metadata": {
        "colab": {
          "base_uri": "https://localhost:8080/"
        },
        "id": "1_5lnngm5hLZ",
        "outputId": "72c12228-2e0d-4399-ef17-ffe86e5766a9"
      },
      "outputs": [
        {
          "data": {
            "text/plain": [
              "array([2010], dtype=int64)"
            ]
          },
          "execution_count": 7,
          "metadata": {},
          "output_type": "execute_result"
        }
      ],
      "source": [
        "data['Year'].unique()"
      ]
    },
    {
      "cell_type": "markdown",
      "metadata": {
        "id": "JBFaAzqK28Cj"
      },
      "source": [
        "#**Preproccessing**"
      ]
    },
    {
      "cell_type": "markdown",
      "metadata": {
        "id": "mAVF_WTmzfSD"
      },
      "source": [
        "#### Data Cleaning & Normlization\n",
        ">*  Remove Punctuatuions\n",
        "*  Remove Usernames(mentions)\n",
        "*   Remove URLs\n",
        "*   Remove emoji\n",
        "*   Remove Numbers\n",
        "*   Remove Special Characters\n",
        "*   Remove Elongation\n",
        "\n",
        "\n",
        "\n",
        "\n",
        "\n"
      ]
    },
    {
      "cell_type": "code",
      "execution_count": 20,
      "metadata": {
        "colab": {
          "base_uri": "https://localhost:8080/"
        },
        "id": "tHoO7cQQAD6o",
        "outputId": "c11f269d-774b-4fc0-e631-89dde4bd3f56"
      },
      "outputs": [
        {
          "name": "stdout",
          "output_type": "stream",
          "text": [
            "Requirement already satisfied: farasapy in c:\\users\\river\\anaconda3\\lib\\site-packages (0.0.14)\n",
            "Requirement already satisfied: tqdm in c:\\users\\river\\anaconda3\\lib\\site-packages (from farasapy) (4.59.0)\n",
            "Requirement already satisfied: requests in c:\\users\\river\\anaconda3\\lib\\site-packages (from farasapy) (2.28.1)\n",
            "Requirement already satisfied: charset-normalizer<3,>=2 in c:\\users\\river\\anaconda3\\lib\\site-packages (from requests->farasapy) (2.1.0)\n",
            "Requirement already satisfied: certifi>=2017.4.17 in c:\\users\\river\\anaconda3\\lib\\site-packages (from requests->farasapy) (2022.6.15)\n",
            "Requirement already satisfied: idna<4,>=2.5 in c:\\users\\river\\anaconda3\\lib\\site-packages (from requests->farasapy) (3.3)\n",
            "Requirement already satisfied: urllib3<1.27,>=1.21.1 in c:\\users\\river\\anaconda3\\lib\\site-packages (from requests->farasapy) (1.26.10)\n"
          ]
        }
      ],
      "source": [
        "!pip install farasapy"
      ]
    },
    {
      "cell_type": "code",
      "execution_count": 19,
      "metadata": {
        "colab": {
          "base_uri": "https://localhost:8080/"
        },
        "id": "vChHhdasAI_Y",
        "outputId": "0bd872c1-0f71-4860-92ff-ea1328494adc"
      },
      "outputs": [
        {
          "name": "stderr",
          "output_type": "stream",
          "text": [
            "Cloning into 'arabert'...\n"
          ]
        }
      ],
      "source": [
        "!git clone https://github.com/aub-mind/arabert"
      ]
    },
    {
      "cell_type": "code",
      "execution_count": 18,
      "metadata": {
        "colab": {
          "base_uri": "https://localhost:8080/"
        },
        "id": "-_7FUdqiAJ-5",
        "outputId": "6a494757-17e5-4538-f06d-7aef6f1bf918"
      },
      "outputs": [
        {
          "name": "stdout",
          "output_type": "stream",
          "text": [
            "Requirement already satisfied: pyarabic in c:\\users\\river\\anaconda3\\lib\\site-packages (0.6.15)\n",
            "Requirement already satisfied: six>=1.14.0 in c:\\users\\river\\anaconda3\\lib\\site-packages (from pyarabic) (1.16.0)\n"
          ]
        }
      ],
      "source": [
        "!pip install pyarabic"
      ]
    },
    {
      "cell_type": "code",
      "execution_count": 8,
      "metadata": {
        "id": "AIV440lvu8qr"
      },
      "outputs": [],
      "source": [
        "def removeMention(txt):\n",
        "  arabic_men=re.sub(\"@[أ-ي]+\",\"\",txt)#//remove Arabic hashtags that have  after it\n",
        "  arabic_men=re.sub(\"[أ-ي]@+\",\"\",arabic_men) #remove Arabic hashtags that have # before it\n",
        "  without_men=re.sub(\"@[A-Za-z]+\",\"\",arabic_men)# remove English hashtags\n",
        "  return without_men"
      ]
    },
    {
      "cell_type": "code",
      "execution_count": 9,
      "metadata": {
        "id": "iEtuooXtu94L"
      },
      "outputs": [],
      "source": [
        "def removeduplicate(txt):\n",
        "  non_duplicate = ''.join(i for i, _ in itertools.groupby(txt))\n",
        "  return non_duplicate\n"
      ]
    },
    {
      "cell_type": "code",
      "execution_count": 10,
      "metadata": {
        "id": "pDRm-Z9hu91k"
      },
      "outputs": [],
      "source": [
        "def removeDigits(txt):\n",
        "  without_digit = re.sub('[0-9]+', '', txt) \n",
        "  return without_digit"
      ]
    },
    {
      "cell_type": "code",
      "execution_count": 11,
      "metadata": {
        "id": "C6NQPOmou9zD"
      },
      "outputs": [],
      "source": [
        "def removeURl(txt):\n",
        "  without_url= re.sub('((www\\.[^\\s]+)|(https?://[^\\s]+))', ' ', txt)\n",
        "  return without_url"
      ]
    },
    {
      "cell_type": "code",
      "execution_count": 12,
      "metadata": {
        "id": "MKUuN2TVu9wd"
      },
      "outputs": [],
      "source": [
        "def removestopwords(txt):\n",
        "  without_stopwords = ' '.join(word for word in txt.split() if word not in stop_words)\n",
        "  return without_stopwords"
      ]
    },
    {
      "cell_type": "code",
      "execution_count": 13,
      "metadata": {
        "id": "LRpIuBQqu9tb"
      },
      "outputs": [],
      "source": [
        "def removepuncatution(txt):\n",
        "\n",
        "  punctuations = '''`÷×؛<>_()*&^%][ـ،/:\"؟.,'{}~¦+|!”…“–ـ''' + string.punctuation\n",
        "  translator = str.maketrans('', '', punctuations)\n",
        "  without_punc = txt.translate(translator)\n",
        "\n",
        "  # txtt = re.sub(\"[\\s+\\\\# ـ!\\/_,$%=^*?:@&^~`(+\\\"]+|[+！，。？、~@￥%……&*（）“ ”:;：；、\\\\《）《》“”()»〔〕# ]+ ·.『]\", \"\", txt)\n",
        "  # seq = re.sub(\"[\\s+[`÷×؛<>_()*&% ـ،/:{} ÷×؛<>_()*&^%][ـ،/: ]\", \"\", txtt)\n",
        "  return without_punc"
      ]
    },
    {
      "cell_type": "code",
      "execution_count": 14,
      "metadata": {
        "id": "NWp4Kxupu9qs"
      },
      "outputs": [],
      "source": [
        "def removenonrabic(txt):\n",
        "  # Remove None arabic \n",
        "  without_english = re.sub(u\"[^\\u0621-\\u063A\\u0640-\\u0652 ]\", \" \", txt)\n",
        "  return without_english"
      ]
    },
    {
      "cell_type": "code",
      "execution_count": 15,
      "metadata": {
        "id": "ufQy8U0pu9nb"
      },
      "outputs": [],
      "source": [
        "def removeHashtages(txt):\n",
        "  arabic_hash=re.sub(\"#[أ-ي]+\",\"\",txt)#//remove Arabic hashtags that have  after it\n",
        "  arabic_hash_=re.sub(\"[أ-ي]#+\",\"\",arabic_hash) #remove Arabic hashtags that have # before it\n",
        "  without_hash=re.sub(\"#[A-Za-z]+\",\"\",arabic_hash)# remove English hashtags\n",
        "  return without_hash"
      ]
    },
    {
      "cell_type": "code",
      "execution_count": 16,
      "metadata": {
        "id": "5_kgrtKpu9hz"
      },
      "outputs": [],
      "source": [
        "def removetashkeel(txt):\n",
        "  TATWEEL = u\"\\u0640\"\n",
        "  p_tashkeel = re.compile(r'[\\u0617-\\u061A\\u064B-\\u0652]')\n",
        "  without_tashkeel = re.sub(p_tashkeel,\"\", txt)\n",
        "  without_tashkeel=without_tashkeel.replace(TATWEEL, '')\n",
        "  return without_tashkeel"
      ]
    },
    {
      "cell_type": "code",
      "execution_count": 17,
      "metadata": {
        "id": "Xpg49sjEu9Y7"
      },
      "outputs": [],
      "source": [
        "def remove_Emojis(text):\n",
        "  emoj = re.compile(\"[\"\n",
        "      u\"\\U0001F600-\\U0001F64F\"  # emoticons\n",
        "      u\"\\U0001F300-\\U0001F5FF\"  # symbols & pictographs\n",
        "      u\"\\U0001F680-\\U0001F6FF\"  # transport & map symbols\n",
        "      u\"\\U0001F1E0-\\U0001F1FF\"  # flags (iOS)\n",
        "      u\"\\U00002500-\\U00002BEF\"  # chinese char\n",
        "      u\"\\U00002702-\\U000027B0\"\n",
        "      u\"\\U00002702-\\U000027B0\"\n",
        "      u\"\\U000024C2-\\U0001F251\"\n",
        "      u\"\\U0001f926-\\U0001f937\"\n",
        "      u\"\\U00010000-\\U0010ffff\"\n",
        "      u\"\\u2640-\\u2642\" \n",
        "      u\"\\u2600-\\u2B55\"\n",
        "      u\"\\u200d\"\n",
        "      u\"\\u23cf\"\n",
        "      u\"\\u23e9\"\n",
        "      u\"\\u231a\"\n",
        "      u\"\\ufe0f\"  # dingbats\n",
        "      u\"\\u3030\"\n",
        "                    \"]+\", re.UNICODE)\n",
        "  without_emojy=re.sub(emoj, '', text)\n",
        "  return without_emojy"
      ]
    },
    {
      "cell_type": "code",
      "execution_count": 18,
      "metadata": {
        "id": "kt3q_8UcvV6T"
      },
      "outputs": [],
      "source": [
        "def Clean_Egyptain_text(raw_text):\n",
        "\n",
        "  raw_text=raw_text.strip()\n",
        "  #1 remove duplichated chars in the raw text\n",
        "  text=removeduplicate(raw_text)\n",
        "\n",
        "  #2 remove hashtages after remove duplicated chars\n",
        "  text=removeHashtages(text)\n",
        "\n",
        "  #3 remove digits\n",
        "  text= removeDigits(text)\n",
        "\n",
        "  #4 remove the puncatution from the text \n",
        "  text=removepuncatution(text)\n",
        "\n",
        "  #5 remove the mention and @ char\n",
        "  text=removeMention(text)\n",
        "\n",
        "  #6 remove arabic tashkeel from the text\n",
        "  text=removetashkeel(text)\n",
        "\n",
        "  #7 remove Emojies from the text\n",
        "  text=remove_Emojis(text)\n",
        "\n",
        "  #8 remove url and links from the text\n",
        "  text=removeURl(text)\n",
        "\n",
        "  # #9 remove stopwords from the text\n",
        "  # text=removestopwords(text)\n",
        "\n",
        "  #10 remove non rabic words from the text\n",
        "  text=removenonrabic(text)\n",
        "\n",
        "  return text"
      ]
    },
    {
      "cell_type": "code",
      "execution_count": 19,
      "metadata": {
        "id": "j52a86fvvsoD"
      },
      "outputs": [],
      "source": [
        "clean = {\n",
        "    'Text': data['Text'].apply(lambda x: Clean_Egyptain_text(str(x)))\n",
        "    }\n",
        "Cleaned_data = pd.DataFrame.from_dict(clean)"
      ]
    },
    {
      "cell_type": "markdown",
      "metadata": {
        "id": "U2--rPeq0F4P"
      },
      "source": [
        "#### Check missing data"
      ]
    },
    {
      "cell_type": "code",
      "execution_count": 32,
      "metadata": {
        "colab": {
          "base_uri": "https://localhost:8080/"
        },
        "id": "PS6qQacc0IYi",
        "outputId": "c1b2389b-896f-4310-d136-0e0978af1054"
      },
      "outputs": [
        {
          "data": {
            "text/plain": [
              "Text    0\n",
              "dtype: int64"
            ]
          },
          "execution_count": 32,
          "metadata": {},
          "output_type": "execute_result"
        }
      ],
      "source": [
        "Cleaned_data.isnull().sum()"
      ]
    },
    {
      "cell_type": "code",
      "execution_count": 33,
      "metadata": {},
      "outputs": [
        {
          "name": "stdout",
          "output_type": "stream",
          "text": [
            "<class 'pandas.core.frame.DataFrame'>\n",
            "RangeIndex: 333224 entries, 0 to 333223\n",
            "Data columns (total 1 columns):\n",
            " #   Column  Non-Null Count   Dtype \n",
            "---  ------  --------------   ----- \n",
            " 0   Text    333224 non-null  object\n",
            "dtypes: object(1)\n",
            "memory usage: 2.5+ MB\n"
          ]
        }
      ],
      "source": [
        "Cleaned_data.info()"
      ]
    },
    {
      "cell_type": "code",
      "execution_count": 34,
      "metadata": {
        "colab": {
          "base_uri": "https://localhost:8080/",
          "height": 424
        },
        "id": "gv20iqLnxN3K",
        "outputId": "33f7b04c-6044-4870-fef8-7491304234a2"
      },
      "outputs": [
        {
          "data": {
            "text/html": [
              "<div>\n",
              "<style scoped>\n",
              "    .dataframe tbody tr th:only-of-type {\n",
              "        vertical-align: middle;\n",
              "    }\n",
              "\n",
              "    .dataframe tbody tr th {\n",
              "        vertical-align: top;\n",
              "    }\n",
              "\n",
              "    .dataframe thead th {\n",
              "        text-align: right;\n",
              "    }\n",
              "</style>\n",
              "<table border=\"1\" class=\"dataframe\">\n",
              "  <thead>\n",
              "    <tr style=\"text-align: right;\">\n",
              "      <th></th>\n",
              "      <th>Text</th>\n",
              "    </tr>\n",
              "  </thead>\n",
              "  <tbody>\n",
              "    <tr>\n",
              "      <th>0</th>\n",
              "      <td>تحياتي لكم جميعا</td>\n",
              "    </tr>\n",
              "    <tr>\n",
              "      <th>1</th>\n",
              "      <td>ودي تشم ولا تقرقش</td>\n",
              "    </tr>\n",
              "    <tr>\n",
              "      <th>2</th>\n",
              "      <td>هو كل يوم نسمع فتوى جديده  ماكلنا عارفين من كا...</td>\n",
              "    </tr>\n",
              "    <tr>\n",
              "      <th>3</th>\n",
              "      <td>يفطر وعدة من أيام أخر زي ما العالم ماشي من ألف...</td>\n",
              "    </tr>\n",
              "    <tr>\n",
              "      <th>4</th>\n",
              "      <td>بلاش اختراعات يا عم الحاج</td>\n",
              "    </tr>\n",
              "    <tr>\n",
              "      <th>...</th>\n",
              "      <td>...</td>\n",
              "    </tr>\n",
              "    <tr>\n",
              "      <th>333219</th>\n",
              "      <td>فية حارس جامد جدا فى طلائع الجيش اسمة  وسام شع...</td>\n",
              "    </tr>\n",
              "    <tr>\n",
              "      <th>333220</th>\n",
              "      <td>اتمني من ادارة فريق الجونة ان تعاقد مع الحارس ...</td>\n",
              "    </tr>\n",
              "    <tr>\n",
              "      <th>333221</th>\n",
              "      <td>في حارس مرمة اسمة محمد الجرادة بيعلب في المنوف...</td>\n",
              "    </tr>\n",
              "    <tr>\n",
              "      <th>333222</th>\n",
              "      <td>يوجد حارس رائع ونادى انبى كان يريده</td>\n",
              "    </tr>\n",
              "    <tr>\n",
              "      <th>333223</th>\n",
              "      <td>الحارس احمد حمدين</td>\n",
              "    </tr>\n",
              "  </tbody>\n",
              "</table>\n",
              "<p>329099 rows × 1 columns</p>\n",
              "</div>"
            ],
            "text/plain": [
              "                                                     Text\n",
              "0                                        تحياتي لكم جميعا\n",
              "1                                      ودي تشم ولا تقرقش \n",
              "2       هو كل يوم نسمع فتوى جديده  ماكلنا عارفين من كا...\n",
              "3       يفطر وعدة من أيام أخر زي ما العالم ماشي من ألف...\n",
              "4                              بلاش اختراعات يا عم الحاج \n",
              "...                                                   ...\n",
              "333219  فية حارس جامد جدا فى طلائع الجيش اسمة  وسام شع...\n",
              "333220  اتمني من ادارة فريق الجونة ان تعاقد مع الحارس ...\n",
              "333221  في حارس مرمة اسمة محمد الجرادة بيعلب في المنوف...\n",
              "333222                يوجد حارس رائع ونادى انبى كان يريده\n",
              "333223                                  الحارس احمد حمدين\n",
              "\n",
              "[329099 rows x 1 columns]"
            ]
          },
          "execution_count": 34,
          "metadata": {},
          "output_type": "execute_result"
        }
      ],
      "source": [
        "Cleaned_data = Cleaned_data[Cleaned_data['Text'].str.strip().astype(bool)]\n",
        "Cleaned_data"
      ]
    },
    {
      "cell_type": "code",
      "execution_count": 35,
      "metadata": {},
      "outputs": [
        {
          "data": {
            "text/plain": [
              "'والدمع بينزل يجرحنا'"
            ]
          },
          "execution_count": 35,
          "metadata": {},
          "output_type": "execute_result"
        }
      ],
      "source": [
        "Cleaned_data.Text.iloc[937]"
      ]
    },
    {
      "cell_type": "markdown",
      "metadata": {
        "id": "BkgJVfeh08ri"
      },
      "source": [
        "#### Cleaned data CSV"
      ]
    },
    {
      "cell_type": "code",
      "execution_count": 42,
      "metadata": {
        "id": "yfbM_1kO1DXC"
      },
      "outputs": [],
      "source": [
        "\n",
        "Cleaned_data.to_csv(f'../Data/Preprocessed/{fileName}.csv',index=False)"
      ]
    },
    {
      "cell_type": "code",
      "execution_count": null,
      "metadata": {},
      "outputs": [],
      "source": []
    }
  ],
  "metadata": {
    "colab": {
      "collapsed_sections": [
        "CEc6U3Thv7Rt"
      ],
      "provenance": []
    },
    "kernelspec": {
      "display_name": "Python 3.8.8 ('base')",
      "language": "python",
      "name": "python3"
    },
    "language_info": {
      "codemirror_mode": {
        "name": "ipython",
        "version": 3
      },
      "file_extension": ".py",
      "mimetype": "text/x-python",
      "name": "python",
      "nbconvert_exporter": "python",
      "pygments_lexer": "ipython3",
      "version": "3.8.8"
    },
    "vscode": {
      "interpreter": {
        "hash": "61988e2b4f5b0ccee1d845266b40130c59f7d62973977e0b1b53b9b8b4cf0fa0"
      }
    }
  },
  "nbformat": 4,
  "nbformat_minor": 0
}
