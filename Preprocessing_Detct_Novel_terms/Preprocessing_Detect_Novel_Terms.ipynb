{
  "nbformat": 4,
  "nbformat_minor": 0,
  "metadata": {
    "colab": {
      "provenance": [],
      "collapsed_sections": [
        "CEc6U3Thv7Rt"
      ]
    },
    "kernelspec": {
      "name": "python3",
      "display_name": "Python 3"
    },
    "language_info": {
      "name": "python"
    }
  },
  "cells": [
    {
      "cell_type": "markdown",
      "source": [
        "#**Reading the data**"
      ],
      "metadata": {
        "id": "CEc6U3Thv7Rt"
      }
    },
    {
      "cell_type": "code",
      "execution_count": 1,
      "metadata": {
        "id": "m4djCHC6JFxl"
      },
      "outputs": [],
      "source": [
        "import re\n",
        "import pandas as pd\n",
        "from collections import Counter\n",
        "import nltk\n",
        "from nltk.corpus import wordnet\n",
        "from nltk.corpus import stopwords\n",
        "from nltk.stem import WordNetLemmatizer\n",
        "from nltk.stem.porter import PorterStemmer\n",
        "import numpy as np\n",
        "from nltk.corpus import stopwords\n",
        "import os\n",
        "import warnings\n",
        "import itertools\n",
        "# import emoji\n",
        "from nltk.corpus import stopwords\n",
        "import string"
      ]
    },
    {
      "cell_type": "code",
      "source": [
        "!gdown --id 1DEiFMHK1ng0G0Z5Lju1e-13ClwQJu1-V"
      ],
      "metadata": {
        "colab": {
          "base_uri": "https://localhost:8080/"
        },
        "id": "7V4g4BGsKqGZ",
        "outputId": "c72fd7b8-d39e-407e-ed89-ea847c8861f2"
      },
      "execution_count": 2,
      "outputs": [
        {
          "output_type": "stream",
          "name": "stdout",
          "text": [
            "/usr/local/lib/python3.7/dist-packages/gdown/cli.py:131: FutureWarning: Option `--id` was deprecated in version 4.3.1 and will be removed in 5.0. You don't need to pass it anymore to use a file ID.\n",
            "  category=FutureWarning,\n",
            "Downloading...\n",
            "From: https://drive.google.com/uc?id=1DEiFMHK1ng0G0Z5Lju1e-13ClwQJu1-V\n",
            "To: /content/Political Tweets.xlsx\n",
            "100% 12.3M/12.3M [00:00<00:00, 90.0MB/s]\n"
          ]
        }
      ]
    },
    {
      "cell_type": "code",
      "source": [
        "data = pd.read_excel(\"/content/Political Tweets.xlsx\")"
      ],
      "metadata": {
        "id": "YNLubbSWK_CJ"
      },
      "execution_count": 3,
      "outputs": []
    },
    {
      "cell_type": "code",
      "source": [
        "teeext=data.iloc[11,0]\n",
        "teeext"
      ],
      "metadata": {
        "id": "Nxr7CaURexd5",
        "colab": {
          "base_uri": "https://localhost:8080/",
          "height": 35
        },
        "outputId": "160abeb3-d152-46ed-81d2-5fc4c4427fe1"
      },
      "execution_count": 4,
      "outputs": [
        {
          "output_type": "execute_result",
          "data": {
            "text/plain": [
              "'    مكانك علي حدود مش سوق العبور . السيسي اهانه جيش مصر العظيم    '"
            ],
            "application/vnd.google.colaboratory.intrinsic+json": {
              "type": "string"
            }
          },
          "metadata": {},
          "execution_count": 4
        }
      ]
    },
    {
      "cell_type": "code",
      "source": [
        "data"
      ],
      "metadata": {
        "colab": {
          "base_uri": "https://localhost:8080/",
          "height": 424
        },
        "id": "-tMwo0nr5NuK",
        "outputId": "fb1775ad-5471-478b-9083-2e6a73207ead"
      },
      "execution_count": 5,
      "outputs": [
        {
          "output_type": "execute_result",
          "data": {
            "text/plain": [
              "                                                     Text  Year  \\\n",
              "0           غني الحريه دي أجمل  غنوه في الوجوه شمس الح...  2019   \n",
              "1                               شامم ريحة أحداث يناير      2019   \n",
              "2         اكتر من ربع مليون تغريدة ليه  ابو لهب هو ولا...  2019   \n",
              "3                         لا لإهانة اولادنا بيد العرص      2019   \n",
              "4           هذا هو حال المصريين في عهد السيسي وعصابته....  2019   \n",
              "...                                                   ...   ...   \n",
              "431446      مافيش واحد فالجيش زي خالد الاسلامبولي كدا ...  2019   \n",
              "431447                                                …    2019   \n",
              "431448      المستشفيات بتاعتنا وهوا بيعمل قصور وهيعمل ...  2019   \n",
              "431449       انا اسف ياأمي حقك وحقنا كلنا هيرجع ان شاء...  2019   \n",
              "431450                       التزم حتي بالقسم وسيبها       2019   \n",
              "\n",
              "                         Source  \n",
              "0       Arabic Political Tweets  \n",
              "1       Arabic Political Tweets  \n",
              "2       Arabic Political Tweets  \n",
              "3       Arabic Political Tweets  \n",
              "4       Arabic Political Tweets  \n",
              "...                         ...  \n",
              "431446  Arabic Political Tweets  \n",
              "431447  Arabic Political Tweets  \n",
              "431448  Arabic Political Tweets  \n",
              "431449  Arabic Political Tweets  \n",
              "431450  Arabic Political Tweets  \n",
              "\n",
              "[431451 rows x 3 columns]"
            ],
            "text/html": [
              "\n",
              "  <div id=\"df-b84a4fdf-fc55-4398-a7ca-1f03a22859d6\">\n",
              "    <div class=\"colab-df-container\">\n",
              "      <div>\n",
              "<style scoped>\n",
              "    .dataframe tbody tr th:only-of-type {\n",
              "        vertical-align: middle;\n",
              "    }\n",
              "\n",
              "    .dataframe tbody tr th {\n",
              "        vertical-align: top;\n",
              "    }\n",
              "\n",
              "    .dataframe thead th {\n",
              "        text-align: right;\n",
              "    }\n",
              "</style>\n",
              "<table border=\"1\" class=\"dataframe\">\n",
              "  <thead>\n",
              "    <tr style=\"text-align: right;\">\n",
              "      <th></th>\n",
              "      <th>Text</th>\n",
              "      <th>Year</th>\n",
              "      <th>Source</th>\n",
              "    </tr>\n",
              "  </thead>\n",
              "  <tbody>\n",
              "    <tr>\n",
              "      <th>0</th>\n",
              "      <td>غني الحريه دي أجمل  غنوه في الوجوه شمس الح...</td>\n",
              "      <td>2019</td>\n",
              "      <td>Arabic Political Tweets</td>\n",
              "    </tr>\n",
              "    <tr>\n",
              "      <th>1</th>\n",
              "      <td>شامم ريحة أحداث يناير</td>\n",
              "      <td>2019</td>\n",
              "      <td>Arabic Political Tweets</td>\n",
              "    </tr>\n",
              "    <tr>\n",
              "      <th>2</th>\n",
              "      <td>اكتر من ربع مليون تغريدة ليه  ابو لهب هو ولا...</td>\n",
              "      <td>2019</td>\n",
              "      <td>Arabic Political Tweets</td>\n",
              "    </tr>\n",
              "    <tr>\n",
              "      <th>3</th>\n",
              "      <td>لا لإهانة اولادنا بيد العرص</td>\n",
              "      <td>2019</td>\n",
              "      <td>Arabic Political Tweets</td>\n",
              "    </tr>\n",
              "    <tr>\n",
              "      <th>4</th>\n",
              "      <td>هذا هو حال المصريين في عهد السيسي وعصابته....</td>\n",
              "      <td>2019</td>\n",
              "      <td>Arabic Political Tweets</td>\n",
              "    </tr>\n",
              "    <tr>\n",
              "      <th>...</th>\n",
              "      <td>...</td>\n",
              "      <td>...</td>\n",
              "      <td>...</td>\n",
              "    </tr>\n",
              "    <tr>\n",
              "      <th>431446</th>\n",
              "      <td>مافيش واحد فالجيش زي خالد الاسلامبولي كدا ...</td>\n",
              "      <td>2019</td>\n",
              "      <td>Arabic Political Tweets</td>\n",
              "    </tr>\n",
              "    <tr>\n",
              "      <th>431447</th>\n",
              "      <td>…</td>\n",
              "      <td>2019</td>\n",
              "      <td>Arabic Political Tweets</td>\n",
              "    </tr>\n",
              "    <tr>\n",
              "      <th>431448</th>\n",
              "      <td>المستشفيات بتاعتنا وهوا بيعمل قصور وهيعمل ...</td>\n",
              "      <td>2019</td>\n",
              "      <td>Arabic Political Tweets</td>\n",
              "    </tr>\n",
              "    <tr>\n",
              "      <th>431449</th>\n",
              "      <td>انا اسف ياأمي حقك وحقنا كلنا هيرجع ان شاء...</td>\n",
              "      <td>2019</td>\n",
              "      <td>Arabic Political Tweets</td>\n",
              "    </tr>\n",
              "    <tr>\n",
              "      <th>431450</th>\n",
              "      <td>التزم حتي بالقسم وسيبها</td>\n",
              "      <td>2019</td>\n",
              "      <td>Arabic Political Tweets</td>\n",
              "    </tr>\n",
              "  </tbody>\n",
              "</table>\n",
              "<p>431451 rows × 3 columns</p>\n",
              "</div>\n",
              "      <button class=\"colab-df-convert\" onclick=\"convertToInteractive('df-b84a4fdf-fc55-4398-a7ca-1f03a22859d6')\"\n",
              "              title=\"Convert this dataframe to an interactive table.\"\n",
              "              style=\"display:none;\">\n",
              "        \n",
              "  <svg xmlns=\"http://www.w3.org/2000/svg\" height=\"24px\"viewBox=\"0 0 24 24\"\n",
              "       width=\"24px\">\n",
              "    <path d=\"M0 0h24v24H0V0z\" fill=\"none\"/>\n",
              "    <path d=\"M18.56 5.44l.94 2.06.94-2.06 2.06-.94-2.06-.94-.94-2.06-.94 2.06-2.06.94zm-11 1L8.5 8.5l.94-2.06 2.06-.94-2.06-.94L8.5 2.5l-.94 2.06-2.06.94zm10 10l.94 2.06.94-2.06 2.06-.94-2.06-.94-.94-2.06-.94 2.06-2.06.94z\"/><path d=\"M17.41 7.96l-1.37-1.37c-.4-.4-.92-.59-1.43-.59-.52 0-1.04.2-1.43.59L10.3 9.45l-7.72 7.72c-.78.78-.78 2.05 0 2.83L4 21.41c.39.39.9.59 1.41.59.51 0 1.02-.2 1.41-.59l7.78-7.78 2.81-2.81c.8-.78.8-2.07 0-2.86zM5.41 20L4 18.59l7.72-7.72 1.47 1.35L5.41 20z\"/>\n",
              "  </svg>\n",
              "      </button>\n",
              "      \n",
              "  <style>\n",
              "    .colab-df-container {\n",
              "      display:flex;\n",
              "      flex-wrap:wrap;\n",
              "      gap: 12px;\n",
              "    }\n",
              "\n",
              "    .colab-df-convert {\n",
              "      background-color: #E8F0FE;\n",
              "      border: none;\n",
              "      border-radius: 50%;\n",
              "      cursor: pointer;\n",
              "      display: none;\n",
              "      fill: #1967D2;\n",
              "      height: 32px;\n",
              "      padding: 0 0 0 0;\n",
              "      width: 32px;\n",
              "    }\n",
              "\n",
              "    .colab-df-convert:hover {\n",
              "      background-color: #E2EBFA;\n",
              "      box-shadow: 0px 1px 2px rgba(60, 64, 67, 0.3), 0px 1px 3px 1px rgba(60, 64, 67, 0.15);\n",
              "      fill: #174EA6;\n",
              "    }\n",
              "\n",
              "    [theme=dark] .colab-df-convert {\n",
              "      background-color: #3B4455;\n",
              "      fill: #D2E3FC;\n",
              "    }\n",
              "\n",
              "    [theme=dark] .colab-df-convert:hover {\n",
              "      background-color: #434B5C;\n",
              "      box-shadow: 0px 1px 3px 1px rgba(0, 0, 0, 0.15);\n",
              "      filter: drop-shadow(0px 1px 2px rgba(0, 0, 0, 0.3));\n",
              "      fill: #FFFFFF;\n",
              "    }\n",
              "  </style>\n",
              "\n",
              "      <script>\n",
              "        const buttonEl =\n",
              "          document.querySelector('#df-b84a4fdf-fc55-4398-a7ca-1f03a22859d6 button.colab-df-convert');\n",
              "        buttonEl.style.display =\n",
              "          google.colab.kernel.accessAllowed ? 'block' : 'none';\n",
              "\n",
              "        async function convertToInteractive(key) {\n",
              "          const element = document.querySelector('#df-b84a4fdf-fc55-4398-a7ca-1f03a22859d6');\n",
              "          const dataTable =\n",
              "            await google.colab.kernel.invokeFunction('convertToInteractive',\n",
              "                                                     [key], {});\n",
              "          if (!dataTable) return;\n",
              "\n",
              "          const docLinkHtml = 'Like what you see? Visit the ' +\n",
              "            '<a target=\"_blank\" href=https://colab.research.google.com/notebooks/data_table.ipynb>data table notebook</a>'\n",
              "            + ' to learn more about interactive tables.';\n",
              "          element.innerHTML = '';\n",
              "          dataTable['output_type'] = 'display_data';\n",
              "          await google.colab.output.renderOutput(dataTable, element);\n",
              "          const docLink = document.createElement('div');\n",
              "          docLink.innerHTML = docLinkHtml;\n",
              "          element.appendChild(docLink);\n",
              "        }\n",
              "      </script>\n",
              "    </div>\n",
              "  </div>\n",
              "  "
            ]
          },
          "metadata": {},
          "execution_count": 5
        }
      ]
    },
    {
      "cell_type": "code",
      "source": [
        "data['Text'].describe()"
      ],
      "metadata": {
        "colab": {
          "base_uri": "https://localhost:8080/"
        },
        "id": "Miq0f49T5W4q",
        "outputId": "94bf809e-1efc-4889-de10-77d55001d6a9"
      },
      "execution_count": 6,
      "outputs": [
        {
          "output_type": "execute_result",
          "data": {
            "text/plain": [
              "count                                                431451\n",
              "unique                                               128423\n",
              "top           عاوز 10000 تلاف رتويت هنا وهنوصل تريند عال...\n",
              "freq                                                   8004\n",
              "Name: Text, dtype: object"
            ]
          },
          "metadata": {},
          "execution_count": 6
        }
      ]
    },
    {
      "cell_type": "code",
      "source": [
        "data['Year'].unique()"
      ],
      "metadata": {
        "colab": {
          "base_uri": "https://localhost:8080/"
        },
        "id": "1_5lnngm5hLZ",
        "outputId": "72c12228-2e0d-4399-ef17-ffe86e5766a9"
      },
      "execution_count": 7,
      "outputs": [
        {
          "output_type": "execute_result",
          "data": {
            "text/plain": [
              "array([2019])"
            ]
          },
          "metadata": {},
          "execution_count": 7
        }
      ]
    },
    {
      "cell_type": "markdown",
      "source": [
        "#**Preproccessing**"
      ],
      "metadata": {
        "id": "JBFaAzqK28Cj"
      }
    },
    {
      "cell_type": "markdown",
      "source": [
        "#### Data Cleaning & Normlization\n",
        ">*  Remove Punctuatuions\n",
        "*  Remove Usernames(mentions)\n",
        "*   Remove URLs\n",
        "*   Remove emoji\n",
        "*   Remove Numbers\n",
        "*   Remove Special Characters\n",
        "*   Remove Elongation\n",
        "\n",
        "\n",
        "\n",
        "\n",
        "\n"
      ],
      "metadata": {
        "id": "mAVF_WTmzfSD"
      }
    },
    {
      "cell_type": "code",
      "source": [
        "!pip install farasapy"
      ],
      "metadata": {
        "colab": {
          "base_uri": "https://localhost:8080/"
        },
        "id": "tHoO7cQQAD6o",
        "outputId": "c11f269d-774b-4fc0-e631-89dde4bd3f56"
      },
      "execution_count": 8,
      "outputs": [
        {
          "output_type": "stream",
          "name": "stdout",
          "text": [
            "Looking in indexes: https://pypi.org/simple, https://us-python.pkg.dev/colab-wheels/public/simple/\n",
            "Collecting farasapy\n",
            "  Downloading farasapy-0.0.14-py3-none-any.whl (11 kB)\n",
            "Requirement already satisfied: requests in /usr/local/lib/python3.7/dist-packages (from farasapy) (2.23.0)\n",
            "Requirement already satisfied: tqdm in /usr/local/lib/python3.7/dist-packages (from farasapy) (4.64.1)\n",
            "Requirement already satisfied: idna<3,>=2.5 in /usr/local/lib/python3.7/dist-packages (from requests->farasapy) (2.10)\n",
            "Requirement already satisfied: chardet<4,>=3.0.2 in /usr/local/lib/python3.7/dist-packages (from requests->farasapy) (3.0.4)\n",
            "Requirement already satisfied: certifi>=2017.4.17 in /usr/local/lib/python3.7/dist-packages (from requests->farasapy) (2022.9.24)\n",
            "Requirement already satisfied: urllib3!=1.25.0,!=1.25.1,<1.26,>=1.21.1 in /usr/local/lib/python3.7/dist-packages (from requests->farasapy) (1.24.3)\n",
            "Installing collected packages: farasapy\n",
            "Successfully installed farasapy-0.0.14\n"
          ]
        }
      ]
    },
    {
      "cell_type": "code",
      "source": [
        "!git clone https://github.com/aub-mind/arabert"
      ],
      "metadata": {
        "colab": {
          "base_uri": "https://localhost:8080/"
        },
        "id": "vChHhdasAI_Y",
        "outputId": "0bd872c1-0f71-4860-92ff-ea1328494adc"
      },
      "execution_count": 9,
      "outputs": [
        {
          "output_type": "stream",
          "name": "stdout",
          "text": [
            "Cloning into 'arabert'...\n",
            "remote: Enumerating objects: 600, done.\u001b[K\n",
            "remote: Counting objects: 100% (65/65), done.\u001b[K\n",
            "remote: Compressing objects: 100% (33/33), done.\u001b[K\n",
            "remote: Total 600 (delta 38), reused 45 (delta 30), pack-reused 535\u001b[K\n",
            "Receiving objects: 100% (600/600), 9.14 MiB | 21.28 MiB/s, done.\n",
            "Resolving deltas: 100% (339/339), done.\n"
          ]
        }
      ]
    },
    {
      "cell_type": "code",
      "source": [
        "!pip install pyarabic"
      ],
      "metadata": {
        "colab": {
          "base_uri": "https://localhost:8080/"
        },
        "id": "-_7FUdqiAJ-5",
        "outputId": "6a494757-17e5-4538-f06d-7aef6f1bf918"
      },
      "execution_count": 10,
      "outputs": [
        {
          "output_type": "stream",
          "name": "stdout",
          "text": [
            "Looking in indexes: https://pypi.org/simple, https://us-python.pkg.dev/colab-wheels/public/simple/\n",
            "Collecting pyarabic\n",
            "  Downloading PyArabic-0.6.15-py3-none-any.whl (126 kB)\n",
            "\u001b[K     |████████████████████████████████| 126 kB 13.4 MB/s \n",
            "\u001b[?25hRequirement already satisfied: six>=1.14.0 in /usr/local/lib/python3.7/dist-packages (from pyarabic) (1.15.0)\n",
            "Installing collected packages: pyarabic\n",
            "Successfully installed pyarabic-0.6.15\n"
          ]
        }
      ]
    },
    {
      "cell_type": "code",
      "source": [
        "def removeMention(txt):\n",
        "  arabic_men=re.sub(\"@[أ-ي]+\",\"\",txt)#//remove Arabic hashtags that have  after it\n",
        "  arabic_men=re.sub(\"[أ-ي]@+\",\"\",arabic_men) #remove Arabic hashtags that have # before it\n",
        "  without_men=re.sub(\"@[A-Za-z]+\",\"\",arabic_men)# remove English hashtags\n",
        "  return without_men"
      ],
      "metadata": {
        "id": "AIV440lvu8qr"
      },
      "execution_count": 11,
      "outputs": []
    },
    {
      "cell_type": "code",
      "source": [
        "def removeduplicate(txt):\n",
        "  non_duplicate = ''.join(i for i, _ in itertools.groupby(txt))\n",
        "  return non_duplicate\n"
      ],
      "metadata": {
        "id": "iEtuooXtu94L"
      },
      "execution_count": 12,
      "outputs": []
    },
    {
      "cell_type": "code",
      "source": [
        "def removeDigits(txt):\n",
        "  without_digit = re.sub('[0-9]+', '', txt) \n",
        "  return without_digit"
      ],
      "metadata": {
        "id": "pDRm-Z9hu91k"
      },
      "execution_count": 13,
      "outputs": []
    },
    {
      "cell_type": "code",
      "source": [
        "def removeURl(txt):\n",
        "  without_url= re.sub('((www\\.[^\\s]+)|(https?://[^\\s]+))', ' ', txt)\n",
        "  return without_url"
      ],
      "metadata": {
        "id": "C6NQPOmou9zD"
      },
      "execution_count": 14,
      "outputs": []
    },
    {
      "cell_type": "code",
      "source": [
        "def removestopwords(txt):\n",
        "  without_stopwords = ' '.join(word for word in txt.split() if word not in stop_words)\n",
        "  return without_stopwords"
      ],
      "metadata": {
        "id": "MKUuN2TVu9wd"
      },
      "execution_count": 15,
      "outputs": []
    },
    {
      "cell_type": "code",
      "source": [
        "def removepuncatution(txt):\n",
        "\n",
        "  punctuations = '''`÷×؛<>_()*&^%][ـ،/:\"؟.,'{}~¦+|!”…“–ـ''' + string.punctuation\n",
        "  translator = str.maketrans('', '', punctuations)\n",
        "  without_punc = txt.translate(translator)\n",
        "\n",
        "  # txtt = re.sub(\"[\\s+\\\\# ـ!\\/_,$%=^*?:@&^~`(+\\\"]+|[+！，。？、~@￥%……&*（）“ ”:;：；、\\\\《）《》“”()»〔〕# ]+ ·.『]\", \"\", txt)\n",
        "  # seq = re.sub(\"[\\s+[`÷×؛<>_()*&% ـ،/:{} ÷×؛<>_()*&^%][ـ،/: ]\", \"\", txtt)\n",
        "  return without_punc"
      ],
      "metadata": {
        "id": "LRpIuBQqu9tb"
      },
      "execution_count": 16,
      "outputs": []
    },
    {
      "cell_type": "code",
      "source": [
        "def removenonrabic(txt):\n",
        "  # Remove None arabic \n",
        "  without_english = re.sub(u\"[^\\u0621-\\u063A\\u0640-\\u0652 ]\", \" \", txt)\n",
        "  return without_english"
      ],
      "metadata": {
        "id": "NWp4Kxupu9qs"
      },
      "execution_count": 17,
      "outputs": []
    },
    {
      "cell_type": "code",
      "source": [
        "def removeHashtages(txt):\n",
        "  arabic_hash=re.sub(\"#[أ-ي]+\",\"\",txt)#//remove Arabic hashtags that have  after it\n",
        "  arabic_hash_=re.sub(\"[أ-ي]#+\",\"\",arabic_hash) #remove Arabic hashtags that have # before it\n",
        "  without_hash=re.sub(\"#[A-Za-z]+\",\"\",arabic_hash)# remove English hashtags\n",
        "  return without_hash"
      ],
      "metadata": {
        "id": "ufQy8U0pu9nb"
      },
      "execution_count": 18,
      "outputs": []
    },
    {
      "cell_type": "code",
      "source": [
        "def removetashkeel(txt):\n",
        "  TATWEEL = u\"\\u0640\"\n",
        "  p_tashkeel = re.compile(r'[\\u0617-\\u061A\\u064B-\\u0652]')\n",
        "  without_tashkeel = re.sub(p_tashkeel,\"\", txt)\n",
        "  without_tashkeel=without_tashkeel.replace(TATWEEL, '')\n",
        "  return without_tashkeel"
      ],
      "metadata": {
        "id": "5_kgrtKpu9hz"
      },
      "execution_count": 19,
      "outputs": []
    },
    {
      "cell_type": "code",
      "source": [
        "def remove_Emojis(text):\n",
        "  emoj = re.compile(\"[\"\n",
        "      u\"\\U0001F600-\\U0001F64F\"  # emoticons\n",
        "      u\"\\U0001F300-\\U0001F5FF\"  # symbols & pictographs\n",
        "      u\"\\U0001F680-\\U0001F6FF\"  # transport & map symbols\n",
        "      u\"\\U0001F1E0-\\U0001F1FF\"  # flags (iOS)\n",
        "      u\"\\U00002500-\\U00002BEF\"  # chinese char\n",
        "      u\"\\U00002702-\\U000027B0\"\n",
        "      u\"\\U00002702-\\U000027B0\"\n",
        "      u\"\\U000024C2-\\U0001F251\"\n",
        "      u\"\\U0001f926-\\U0001f937\"\n",
        "      u\"\\U00010000-\\U0010ffff\"\n",
        "      u\"\\u2640-\\u2642\" \n",
        "      u\"\\u2600-\\u2B55\"\n",
        "      u\"\\u200d\"\n",
        "      u\"\\u23cf\"\n",
        "      u\"\\u23e9\"\n",
        "      u\"\\u231a\"\n",
        "      u\"\\ufe0f\"  # dingbats\n",
        "      u\"\\u3030\"\n",
        "                    \"]+\", re.UNICODE)\n",
        "  without_emojy=re.sub(emoj, '', text)\n",
        "  return without_emojy"
      ],
      "metadata": {
        "id": "Xpg49sjEu9Y7"
      },
      "execution_count": 20,
      "outputs": []
    },
    {
      "cell_type": "code",
      "source": [
        "def Clean_Egyptain_text(raw_text):\n",
        "\n",
        "  raw_text=raw_text.strip()\n",
        "  #1 remove duplichated chars in the raw text\n",
        "  text=removeduplicate(raw_text)\n",
        "\n",
        "  #2 remove hashtages after remove duplicated chars\n",
        "  text=removeHashtages(text)\n",
        "\n",
        "  #3 remove digits\n",
        "  text= removeDigits(text)\n",
        "\n",
        "  #4 remove the puncatution from the text \n",
        "  text=removepuncatution(text)\n",
        "\n",
        "  #5 remove the mention and @ char\n",
        "  text=removeMention(text)\n",
        "\n",
        "  #6 remove arabic tashkeel from the text\n",
        "  text=removetashkeel(text)\n",
        "\n",
        "  #7 remove Emojies from the text\n",
        "  text=remove_Emojis(text)\n",
        "\n",
        "  #8 remove url and links from the text\n",
        "  text=removeURl(text)\n",
        "\n",
        "  # #9 remove stopwords from the text\n",
        "  # text=removestopwords(text)\n",
        "\n",
        "  #10 remove non rabic words from the text\n",
        "  text=removenonrabic(text)\n",
        "\n",
        "  return text"
      ],
      "metadata": {
        "id": "kt3q_8UcvV6T"
      },
      "execution_count": 21,
      "outputs": []
    },
    {
      "cell_type": "code",
      "source": [
        "clean = {\n",
        "    'Tweet': data['Text'].apply(lambda x: Clean_Egyptain_text(str(x)))\n",
        "    }\n",
        "Cleaned_data = pd.DataFrame.from_dict(clean)"
      ],
      "metadata": {
        "id": "j52a86fvvsoD"
      },
      "execution_count": 22,
      "outputs": []
    },
    {
      "cell_type": "code",
      "source": [
        "Cleaned_data"
      ],
      "metadata": {
        "colab": {
          "base_uri": "https://localhost:8080/",
          "height": 424
        },
        "id": "gv20iqLnxN3K",
        "outputId": "33f7b04c-6044-4870-fef8-7491304234a2"
      },
      "execution_count": 23,
      "outputs": [
        {
          "output_type": "execute_result",
          "data": {
            "text/plain": [
              "                                                    Tweet\n",
              "0       غني الحريه دي أجمل غنوه في الوجوه شمس الحريه ا...\n",
              "1                                    شام ريحة أحداث يناير\n",
              "2         اكتر من ربع مليون تغريدة ليه ابو لهب هو ولا ايه\n",
              "3                             لا لإهانة اولادنا بيد العرص\n",
              "4       هذا هو حال المصرين في عهد السيسي وعصابته لا حو...\n",
              "...                                                   ...\n",
              "431446  مافيش واحد فالجيش زي خالد الاسلامبولي كدا أناب...\n",
              "431447                                                   \n",
              "431448     المستشفيات بتاعتنا وهوا بيعمل قصور وهيعمل قصور\n",
              "431449       انا اسف ياأمي حقك وحقنا كلنا هيرجع ان شاءاله\n",
              "431450                            التزم حتي بالقسم وسيبها\n",
              "\n",
              "[431451 rows x 1 columns]"
            ],
            "text/html": [
              "\n",
              "  <div id=\"df-a7ea35d2-09f7-48d5-8cbb-f95bc97edcf5\">\n",
              "    <div class=\"colab-df-container\">\n",
              "      <div>\n",
              "<style scoped>\n",
              "    .dataframe tbody tr th:only-of-type {\n",
              "        vertical-align: middle;\n",
              "    }\n",
              "\n",
              "    .dataframe tbody tr th {\n",
              "        vertical-align: top;\n",
              "    }\n",
              "\n",
              "    .dataframe thead th {\n",
              "        text-align: right;\n",
              "    }\n",
              "</style>\n",
              "<table border=\"1\" class=\"dataframe\">\n",
              "  <thead>\n",
              "    <tr style=\"text-align: right;\">\n",
              "      <th></th>\n",
              "      <th>Tweet</th>\n",
              "    </tr>\n",
              "  </thead>\n",
              "  <tbody>\n",
              "    <tr>\n",
              "      <th>0</th>\n",
              "      <td>غني الحريه دي أجمل غنوه في الوجوه شمس الحريه ا...</td>\n",
              "    </tr>\n",
              "    <tr>\n",
              "      <th>1</th>\n",
              "      <td>شام ريحة أحداث يناير</td>\n",
              "    </tr>\n",
              "    <tr>\n",
              "      <th>2</th>\n",
              "      <td>اكتر من ربع مليون تغريدة ليه ابو لهب هو ولا ايه</td>\n",
              "    </tr>\n",
              "    <tr>\n",
              "      <th>3</th>\n",
              "      <td>لا لإهانة اولادنا بيد العرص</td>\n",
              "    </tr>\n",
              "    <tr>\n",
              "      <th>4</th>\n",
              "      <td>هذا هو حال المصرين في عهد السيسي وعصابته لا حو...</td>\n",
              "    </tr>\n",
              "    <tr>\n",
              "      <th>...</th>\n",
              "      <td>...</td>\n",
              "    </tr>\n",
              "    <tr>\n",
              "      <th>431446</th>\n",
              "      <td>مافيش واحد فالجيش زي خالد الاسلامبولي كدا أناب...</td>\n",
              "    </tr>\n",
              "    <tr>\n",
              "      <th>431447</th>\n",
              "      <td></td>\n",
              "    </tr>\n",
              "    <tr>\n",
              "      <th>431448</th>\n",
              "      <td>المستشفيات بتاعتنا وهوا بيعمل قصور وهيعمل قصور</td>\n",
              "    </tr>\n",
              "    <tr>\n",
              "      <th>431449</th>\n",
              "      <td>انا اسف ياأمي حقك وحقنا كلنا هيرجع ان شاءاله</td>\n",
              "    </tr>\n",
              "    <tr>\n",
              "      <th>431450</th>\n",
              "      <td>التزم حتي بالقسم وسيبها</td>\n",
              "    </tr>\n",
              "  </tbody>\n",
              "</table>\n",
              "<p>431451 rows × 1 columns</p>\n",
              "</div>\n",
              "      <button class=\"colab-df-convert\" onclick=\"convertToInteractive('df-a7ea35d2-09f7-48d5-8cbb-f95bc97edcf5')\"\n",
              "              title=\"Convert this dataframe to an interactive table.\"\n",
              "              style=\"display:none;\">\n",
              "        \n",
              "  <svg xmlns=\"http://www.w3.org/2000/svg\" height=\"24px\"viewBox=\"0 0 24 24\"\n",
              "       width=\"24px\">\n",
              "    <path d=\"M0 0h24v24H0V0z\" fill=\"none\"/>\n",
              "    <path d=\"M18.56 5.44l.94 2.06.94-2.06 2.06-.94-2.06-.94-.94-2.06-.94 2.06-2.06.94zm-11 1L8.5 8.5l.94-2.06 2.06-.94-2.06-.94L8.5 2.5l-.94 2.06-2.06.94zm10 10l.94 2.06.94-2.06 2.06-.94-2.06-.94-.94-2.06-.94 2.06-2.06.94z\"/><path d=\"M17.41 7.96l-1.37-1.37c-.4-.4-.92-.59-1.43-.59-.52 0-1.04.2-1.43.59L10.3 9.45l-7.72 7.72c-.78.78-.78 2.05 0 2.83L4 21.41c.39.39.9.59 1.41.59.51 0 1.02-.2 1.41-.59l7.78-7.78 2.81-2.81c.8-.78.8-2.07 0-2.86zM5.41 20L4 18.59l7.72-7.72 1.47 1.35L5.41 20z\"/>\n",
              "  </svg>\n",
              "      </button>\n",
              "      \n",
              "  <style>\n",
              "    .colab-df-container {\n",
              "      display:flex;\n",
              "      flex-wrap:wrap;\n",
              "      gap: 12px;\n",
              "    }\n",
              "\n",
              "    .colab-df-convert {\n",
              "      background-color: #E8F0FE;\n",
              "      border: none;\n",
              "      border-radius: 50%;\n",
              "      cursor: pointer;\n",
              "      display: none;\n",
              "      fill: #1967D2;\n",
              "      height: 32px;\n",
              "      padding: 0 0 0 0;\n",
              "      width: 32px;\n",
              "    }\n",
              "\n",
              "    .colab-df-convert:hover {\n",
              "      background-color: #E2EBFA;\n",
              "      box-shadow: 0px 1px 2px rgba(60, 64, 67, 0.3), 0px 1px 3px 1px rgba(60, 64, 67, 0.15);\n",
              "      fill: #174EA6;\n",
              "    }\n",
              "\n",
              "    [theme=dark] .colab-df-convert {\n",
              "      background-color: #3B4455;\n",
              "      fill: #D2E3FC;\n",
              "    }\n",
              "\n",
              "    [theme=dark] .colab-df-convert:hover {\n",
              "      background-color: #434B5C;\n",
              "      box-shadow: 0px 1px 3px 1px rgba(0, 0, 0, 0.15);\n",
              "      filter: drop-shadow(0px 1px 2px rgba(0, 0, 0, 0.3));\n",
              "      fill: #FFFFFF;\n",
              "    }\n",
              "  </style>\n",
              "\n",
              "      <script>\n",
              "        const buttonEl =\n",
              "          document.querySelector('#df-a7ea35d2-09f7-48d5-8cbb-f95bc97edcf5 button.colab-df-convert');\n",
              "        buttonEl.style.display =\n",
              "          google.colab.kernel.accessAllowed ? 'block' : 'none';\n",
              "\n",
              "        async function convertToInteractive(key) {\n",
              "          const element = document.querySelector('#df-a7ea35d2-09f7-48d5-8cbb-f95bc97edcf5');\n",
              "          const dataTable =\n",
              "            await google.colab.kernel.invokeFunction('convertToInteractive',\n",
              "                                                     [key], {});\n",
              "          if (!dataTable) return;\n",
              "\n",
              "          const docLinkHtml = 'Like what you see? Visit the ' +\n",
              "            '<a target=\"_blank\" href=https://colab.research.google.com/notebooks/data_table.ipynb>data table notebook</a>'\n",
              "            + ' to learn more about interactive tables.';\n",
              "          element.innerHTML = '';\n",
              "          dataTable['output_type'] = 'display_data';\n",
              "          await google.colab.output.renderOutput(dataTable, element);\n",
              "          const docLink = document.createElement('div');\n",
              "          docLink.innerHTML = docLinkHtml;\n",
              "          element.appendChild(docLink);\n",
              "        }\n",
              "      </script>\n",
              "    </div>\n",
              "  </div>\n",
              "  "
            ]
          },
          "metadata": {},
          "execution_count": 23
        }
      ]
    },
    {
      "cell_type": "markdown",
      "source": [
        "#### Check missing data"
      ],
      "metadata": {
        "id": "U2--rPeq0F4P"
      }
    },
    {
      "cell_type": "code",
      "source": [
        "Cleaned_data.isnull().sum()"
      ],
      "metadata": {
        "colab": {
          "base_uri": "https://localhost:8080/"
        },
        "id": "PS6qQacc0IYi",
        "outputId": "c1b2389b-896f-4310-d136-0e0978af1054"
      },
      "execution_count": 24,
      "outputs": [
        {
          "output_type": "execute_result",
          "data": {
            "text/plain": [
              "Tweet    0\n",
              "dtype: int64"
            ]
          },
          "metadata": {},
          "execution_count": 24
        }
      ]
    },
    {
      "cell_type": "markdown",
      "source": [
        "#### Cleaned data CSV"
      ],
      "metadata": {
        "id": "BkgJVfeh08ri"
      }
    },
    {
      "cell_type": "code",
      "source": [
        "Cleaned_data.to_csv('clean_dataset.csv')"
      ],
      "metadata": {
        "id": "yfbM_1kO1DXC"
      },
      "execution_count": 25,
      "outputs": []
    }
  ]
}