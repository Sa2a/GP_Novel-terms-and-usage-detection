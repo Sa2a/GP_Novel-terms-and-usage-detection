{
  "cells": [
    {
      "cell_type": "code",
      "execution_count": 1,
      "metadata": {
        "id": "Zr2NwtAr-13K"
      },
      "outputs": [
        {
          "name": "stderr",
          "output_type": "stream",
          "text": [
            "c:\\Users\\river\\anaconda3\\lib\\site-packages\\numpy\\_distributor_init.py:30: UserWarning: loaded more than 1 DLL from .libs:\n",
            "c:\\Users\\river\\anaconda3\\lib\\site-packages\\numpy\\.libs\\libopenblas.FB5AE2TYXYH2IJRDKGDGQ3XBKLKTF43H.gfortran-win_amd64.dll\n",
            "c:\\Users\\river\\anaconda3\\lib\\site-packages\\numpy\\.libs\\libopenblas.WCDJNK7YVMPZQ2ME2ZZHJJRJ3JIKNDB7.gfortran-win_amd64.dll\n",
            "  warnings.warn(\"loaded more than 1 DLL from .libs:\"\n"
          ]
        }
      ],
      "source": [
        "import pandas as pd\n"
      ]
    },
    {
      "cell_type": "code",
      "execution_count": 3,
      "metadata": {
        "colab": {
          "base_uri": "https://localhost:8080/",
          "height": 424
        },
        "id": "wz6n8MyHDAWU",
        "outputId": "ed328460-30d3-486f-f795-88dfb5acf7f6"
      },
      "outputs": [
        {
          "data": {
            "text/html": [
              "<div>\n",
              "<style scoped>\n",
              "    .dataframe tbody tr th:only-of-type {\n",
              "        vertical-align: middle;\n",
              "    }\n",
              "\n",
              "    .dataframe tbody tr th {\n",
              "        vertical-align: top;\n",
              "    }\n",
              "\n",
              "    .dataframe thead th {\n",
              "        text-align: right;\n",
              "    }\n",
              "</style>\n",
              "<table border=\"1\" class=\"dataframe\">\n",
              "  <thead>\n",
              "    <tr style=\"text-align: right;\">\n",
              "      <th></th>\n",
              "      <th>Text</th>\n",
              "    </tr>\n",
              "  </thead>\n",
              "  <tbody>\n",
              "    <tr>\n",
              "      <th>0</th>\n",
              "      <td>تحياتي لكم جميعا</td>\n",
              "    </tr>\n",
              "    <tr>\n",
              "      <th>1</th>\n",
              "      <td>ودي تشم ولا تقرقش</td>\n",
              "    </tr>\n",
              "    <tr>\n",
              "      <th>2</th>\n",
              "      <td>هو كل يوم نسمع فتوى جديده  ماكلنا عارفين من كا...</td>\n",
              "    </tr>\n",
              "    <tr>\n",
              "      <th>3</th>\n",
              "      <td>يفطر وعدة من أيام أخر زي ما العالم ماشي من ألف...</td>\n",
              "    </tr>\n",
              "    <tr>\n",
              "      <th>4</th>\n",
              "      <td>بلاش اختراعات يا عم الحاج</td>\n",
              "    </tr>\n",
              "    <tr>\n",
              "      <th>...</th>\n",
              "      <td>...</td>\n",
              "    </tr>\n",
              "    <tr>\n",
              "      <th>329094</th>\n",
              "      <td>فية حارس جامد جدا فى طلائع الجيش اسمة  وسام شع...</td>\n",
              "    </tr>\n",
              "    <tr>\n",
              "      <th>329095</th>\n",
              "      <td>اتمني من ادارة فريق الجونة ان تعاقد مع الحارس ...</td>\n",
              "    </tr>\n",
              "    <tr>\n",
              "      <th>329096</th>\n",
              "      <td>في حارس مرمة اسمة محمد الجرادة بيعلب في المنوف...</td>\n",
              "    </tr>\n",
              "    <tr>\n",
              "      <th>329097</th>\n",
              "      <td>يوجد حارس رائع ونادى انبى كان يريده</td>\n",
              "    </tr>\n",
              "    <tr>\n",
              "      <th>329098</th>\n",
              "      <td>الحارس احمد حمدين</td>\n",
              "    </tr>\n",
              "  </tbody>\n",
              "</table>\n",
              "<p>329099 rows × 1 columns</p>\n",
              "</div>"
            ],
            "text/plain": [
              "                                                     Text\n",
              "0                                        تحياتي لكم جميعا\n",
              "1                                      ودي تشم ولا تقرقش \n",
              "2       هو كل يوم نسمع فتوى جديده  ماكلنا عارفين من كا...\n",
              "3       يفطر وعدة من أيام أخر زي ما العالم ماشي من ألف...\n",
              "4                              بلاش اختراعات يا عم الحاج \n",
              "...                                                   ...\n",
              "329094  فية حارس جامد جدا فى طلائع الجيش اسمة  وسام شع...\n",
              "329095  اتمني من ادارة فريق الجونة ان تعاقد مع الحارس ...\n",
              "329096  في حارس مرمة اسمة محمد الجرادة بيعلب في المنوف...\n",
              "329097                يوجد حارس رائع ونادى انبى كان يريده\n",
              "329098                                  الحارس احمد حمدين\n",
              "\n",
              "[329099 rows x 1 columns]"
            ]
          },
          "execution_count": 3,
          "metadata": {},
          "output_type": "execute_result"
        }
      ],
      "source": [
        "fileName = \"RestOf_AOC_youm7_comments\"\n",
        "data = pd.read_csv(f\"../Data/Preprocessed/{fileName}.csv\",dtype={\"Text\":str})\n",
        "\n",
        "data"
      ]
    },
    {
      "cell_type": "code",
      "execution_count": 4,
      "metadata": {},
      "outputs": [
        {
          "name": "stdout",
          "output_type": "stream",
          "text": [
            "<class 'pandas.core.frame.DataFrame'>\n",
            "RangeIndex: 329099 entries, 0 to 329098\n",
            "Data columns (total 1 columns):\n",
            " #   Column  Non-Null Count   Dtype \n",
            "---  ------  --------------   ----- \n",
            " 0   Text    329099 non-null  object\n",
            "dtypes: object(1)\n",
            "memory usage: 2.5+ MB\n"
          ]
        }
      ],
      "source": [
        "data.info()"
      ]
    },
    {
      "cell_type": "code",
      "execution_count": 5,
      "metadata": {
        "id": "7ZLejRQE8TZ2"
      },
      "outputs": [],
      "source": [
        "from pathlib import Path"
      ]
    },
    {
      "cell_type": "code",
      "execution_count": 6,
      "metadata": {},
      "outputs": [
        {
          "data": {
            "text/plain": [
              "925                                مشينا كتير تعبنا كتير\n",
              "926                                  مشينا لوحدينا بعدنا\n",
              "927                              عرفنا الخوف فى عز النور\n",
              "928                               وبقينا نخاف من حبايبنا\n",
              "929                                      ضيعنا احلى سنين\n",
              "930                                 وازاى هنقدر يوم نرجع\n",
              "931                                    داحنا يدوب عايشين\n",
              "932                                  والدنيا دوامة بتخدع\n",
              "933                                          بقالنا سنين\n",
              "934                                           ف نفس اليل\n",
              "935                                  والحزن مغير ملامحنا\n",
              "936                                بنبكى مرار بحرقة ونار\n",
              "937                                  والدمع بينزل يجرحنا\n",
              "938      الحمد له كده فريق برشلونه العرب اكتمل والحمد له\n",
              "939    بس ياريت تعملوله اعاره حتى لكاظمه الكويتى لسه ...\n",
              "Name: Text, dtype: object"
            ]
          },
          "execution_count": 6,
          "metadata": {},
          "output_type": "execute_result"
        }
      ],
      "source": [
        "data[\"Text\"].iloc[925:940]"
      ]
    },
    {
      "cell_type": "code",
      "execution_count": 7,
      "metadata": {
        "colab": {
          "base_uri": "https://localhost:8080/"
        },
        "id": "5Kj0_eeKJ_j8",
        "outputId": "807a789f-abe1-47e8-bf98-c367276bb5b3"
      },
      "outputs": [
        {
          "name": "stdout",
          "output_type": "stream",
          "text": [
            "0\n",
            "10000\n",
            "20000\n",
            "30000\n",
            "40000\n",
            "50000\n",
            "60000\n",
            "70000\n",
            "80000\n",
            "90000\n",
            "100000\n",
            "110000\n",
            "120000\n",
            "130000\n",
            "140000\n",
            "150000\n",
            "160000\n",
            "170000\n",
            "180000\n",
            "190000\n",
            "200000\n",
            "210000\n",
            "220000\n",
            "230000\n",
            "240000\n",
            "250000\n",
            "260000\n",
            "270000\n",
            "280000\n",
            "290000\n",
            "300000\n",
            "310000\n",
            "320000\n"
          ]
        }
      ],
      "source": [
        "from tqdm.auto import tqdm\n",
        "\n",
        "text_data = []\n",
        "file_count = 0\n",
        "\n",
        "for i in range(0,len(data),10000):\n",
        "  print(file_count)\n",
        "  with open(f\"../Data/Training ready/{fileName}/text_{file_count}.txt\", 'w', encoding='utf-8') as fp:\n",
        "            fp.write('\\n'.join(data[\"Text\"].iloc[i:i+10000]))\n",
        "  file_count+=1\n",
        "\n"
      ]
    },
    {
      "cell_type": "code",
      "execution_count": null,
      "metadata": {},
      "outputs": [],
      "source": []
    }
  ],
  "metadata": {
    "colab": {
      "provenance": []
    },
    "kernelspec": {
      "display_name": "Python 3.8.8 ('base')",
      "language": "python",
      "name": "python3"
    },
    "language_info": {
      "codemirror_mode": {
        "name": "ipython",
        "version": 3
      },
      "file_extension": ".py",
      "mimetype": "text/x-python",
      "name": "python",
      "nbconvert_exporter": "python",
      "pygments_lexer": "ipython3",
      "version": "3.8.8"
    },
    "vscode": {
      "interpreter": {
        "hash": "61988e2b4f5b0ccee1d845266b40130c59f7d62973977e0b1b53b9b8b4cf0fa0"
      }
    }
  },
  "nbformat": 4,
  "nbformat_minor": 0
}
